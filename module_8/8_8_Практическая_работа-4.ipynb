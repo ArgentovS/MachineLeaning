{
 "cells": [
  {
   "cell_type": "markdown",
   "metadata": {
    "id": "Q7ytv2GMjpGZ"
   },
   "source": [
    "# Логистическая регрессия. Практическая работа\n",
    "\n",
    "## Цель практической работы\n",
    "\n",
    "Вы уже делали задание, в котором с помощью метода ближайших соседей оценивали склонность клиента банка откликнуться или не откликнуться на предложение.\n",
    "\n",
    "В этом практическом задании ваши цели:\n",
    "*  решить эту же задачу с помощью логистической регрессии;\n",
    "*  потренироваться в подборе порога;\n",
    "*  потренироваться в подборе гиперпараметров модели."
   ]
  },
  {
   "cell_type": "markdown",
   "metadata": {
    "id": "Sj3n0n38nEfs"
   },
   "source": [
    "## Что входит в работу\n",
    "\n",
    "*  Загрузить данные для задачи.\n",
    "*  Обучить метод ближайших соседей с заданным количеством соседей k, вычислить метрики.\n",
    "*  Обучить логистическую регрессию с параметрами по умолчанию, вычислить метрики.\n",
    "*  Подобрать порог модели, вычислить метрики.\n",
    "*  Подобрать гиперпараметр С (константа регуляризации) модели, вычислить метрики."
   ]
  },
  {
   "cell_type": "markdown",
   "metadata": {
    "id": "3qfZPYNpoFGE"
   },
   "source": [
    "## Что оценивается\n",
    "\n",
    "*  Выполнены все этапы задания: код запускается, отрабатывает без ошибок; подробно и обоснованно написаны текстовые выводы, где это требуется."
   ]
  },
  {
   "cell_type": "markdown",
   "metadata": {
    "id": "3_EzM8UJoRHd"
   },
   "source": [
    "## Формат сдачи\n",
    "Выполните предложенные задания — впишите свой код (или, если требуется, текст) в ячейки после комментариев.\n",
    "\n",
    "*Комментарии — это текст, который начинается с символа #. Например: # ваш код здесь.*\n",
    "\n",
    "Сохраните изменения, используя опцию Save and Checkpoint из вкладки меню File или кнопку Save and Checkpoint на панели инструментов. Итоговый файл в формате .ipynb (файл Jupyter Notebook) загрузите в личный кабинет и отправьте на проверку."
   ]
  },
  {
   "cell_type": "code",
   "execution_count": 1,
   "metadata": {
    "ExecuteTime": {
     "end_time": "2023-12-20T17:19:16.373417Z",
     "start_time": "2023-12-20T17:19:15.807857Z"
    },
    "id": "aPDB2wP8jndz"
   },
   "outputs": [],
   "source": [
    "# подключим библиотеки\n",
    "%matplotlib inline\n",
    "import matplotlib.pyplot as plt\n",
    "import numpy as np\n",
    "import pandas as pd\n",
    "\n",
    "import warnings\n",
    "warnings.filterwarnings(\"ignore\")"
   ]
  },
  {
   "cell_type": "code",
   "execution_count": 2,
   "metadata": {
    "ExecuteTime": {
     "end_time": "2023-12-20T17:19:26.039237Z",
     "start_time": "2023-12-20T17:19:26.020414Z"
    },
    "id": "7Zw7RmtAjn8O"
   },
   "outputs": [],
   "source": [
    "# считаем данные\n",
    "data = pd.read_csv('8.8 ClientsData.csv')"
   ]
  },
  {
   "cell_type": "code",
   "execution_count": 3,
   "metadata": {
    "ExecuteTime": {
     "end_time": "2023-12-20T17:19:28.035159Z",
     "start_time": "2023-12-20T17:19:28.014034Z"
    },
    "colab": {
     "base_uri": "https://localhost:8080/",
     "height": 230
    },
    "id": "3QbRGWqJjxOv",
    "outputId": "61cc917e-5cbc-4d9d-aecd-62e78c62e6ef"
   },
   "outputs": [
    {
     "data": {
      "text/html": [
       "<div>\n",
       "<style scoped>\n",
       "    .dataframe tbody tr th:only-of-type {\n",
       "        vertical-align: middle;\n",
       "    }\n",
       "\n",
       "    .dataframe tbody tr th {\n",
       "        vertical-align: top;\n",
       "    }\n",
       "\n",
       "    .dataframe thead th {\n",
       "        text-align: right;\n",
       "    }\n",
       "</style>\n",
       "<table border=\"1\" class=\"dataframe\">\n",
       "  <thead>\n",
       "    <tr style=\"text-align: right;\">\n",
       "      <th></th>\n",
       "      <th>AGE</th>\n",
       "      <th>SOCSTATUS_WORK_FL</th>\n",
       "      <th>SOCSTATUS_PENS_FL</th>\n",
       "      <th>GENDER</th>\n",
       "      <th>CHILD_TOTAL</th>\n",
       "      <th>DEPENDANTS</th>\n",
       "      <th>PERSONAL_INCOME</th>\n",
       "      <th>LOAN_NUM_TOTAL</th>\n",
       "      <th>LOAN_NUM_CLOSED</th>\n",
       "      <th>LOAN_DLQ_NUM</th>\n",
       "      <th>TARGET</th>\n",
       "    </tr>\n",
       "  </thead>\n",
       "  <tbody>\n",
       "    <tr>\n",
       "      <th>0</th>\n",
       "      <td>49</td>\n",
       "      <td>1</td>\n",
       "      <td>0</td>\n",
       "      <td>1</td>\n",
       "      <td>2</td>\n",
       "      <td>1</td>\n",
       "      <td>5000.0</td>\n",
       "      <td>1</td>\n",
       "      <td>1</td>\n",
       "      <td>2</td>\n",
       "      <td>0</td>\n",
       "    </tr>\n",
       "    <tr>\n",
       "      <th>1</th>\n",
       "      <td>32</td>\n",
       "      <td>1</td>\n",
       "      <td>0</td>\n",
       "      <td>1</td>\n",
       "      <td>3</td>\n",
       "      <td>3</td>\n",
       "      <td>12000.0</td>\n",
       "      <td>1</td>\n",
       "      <td>1</td>\n",
       "      <td>1</td>\n",
       "      <td>0</td>\n",
       "    </tr>\n",
       "    <tr>\n",
       "      <th>2</th>\n",
       "      <td>52</td>\n",
       "      <td>1</td>\n",
       "      <td>0</td>\n",
       "      <td>1</td>\n",
       "      <td>4</td>\n",
       "      <td>0</td>\n",
       "      <td>9000.0</td>\n",
       "      <td>2</td>\n",
       "      <td>1</td>\n",
       "      <td>0</td>\n",
       "      <td>0</td>\n",
       "    </tr>\n",
       "    <tr>\n",
       "      <th>3</th>\n",
       "      <td>39</td>\n",
       "      <td>1</td>\n",
       "      <td>0</td>\n",
       "      <td>1</td>\n",
       "      <td>1</td>\n",
       "      <td>1</td>\n",
       "      <td>25000.0</td>\n",
       "      <td>1</td>\n",
       "      <td>1</td>\n",
       "      <td>3</td>\n",
       "      <td>0</td>\n",
       "    </tr>\n",
       "    <tr>\n",
       "      <th>4</th>\n",
       "      <td>30</td>\n",
       "      <td>1</td>\n",
       "      <td>0</td>\n",
       "      <td>0</td>\n",
       "      <td>0</td>\n",
       "      <td>0</td>\n",
       "      <td>12000.0</td>\n",
       "      <td>2</td>\n",
       "      <td>1</td>\n",
       "      <td>2</td>\n",
       "      <td>0</td>\n",
       "    </tr>\n",
       "  </tbody>\n",
       "</table>\n",
       "</div>"
      ],
      "text/plain": [
       "   AGE  SOCSTATUS_WORK_FL  SOCSTATUS_PENS_FL  GENDER  CHILD_TOTAL  DEPENDANTS  \\\n",
       "0   49                  1                  0       1            2           1   \n",
       "1   32                  1                  0       1            3           3   \n",
       "2   52                  1                  0       1            4           0   \n",
       "3   39                  1                  0       1            1           1   \n",
       "4   30                  1                  0       0            0           0   \n",
       "\n",
       "   PERSONAL_INCOME  LOAN_NUM_TOTAL  LOAN_NUM_CLOSED  LOAN_DLQ_NUM  TARGET  \n",
       "0           5000.0               1                1             2       0  \n",
       "1          12000.0               1                1             1       0  \n",
       "2           9000.0               2                1             0       0  \n",
       "3          25000.0               1                1             3       0  \n",
       "4          12000.0               2                1             2       0  "
      ]
     },
     "execution_count": 3,
     "metadata": {},
     "output_type": "execute_result"
    }
   ],
   "source": [
    "data.head()"
   ]
  },
  {
   "cell_type": "markdown",
   "metadata": {
    "id": "HbnaQJxw2mHQ"
   },
   "source": [
    "В этом ноутбуке нам придётся подбирать гиперпараметры модели, а ещё порог. Поэтому, чтобы не переобучиться, разобъём данные на трейн, валидацию и тест.\n",
    "\n",
    "*  Обучать модели будем на тренировочных данных.\n",
    "*  Подбирать необходимые величины — по валидации.\n",
    "*  Оценивать качество — на тесте."
   ]
  },
  {
   "cell_type": "code",
   "execution_count": 4,
   "metadata": {
    "ExecuteTime": {
     "end_time": "2023-12-20T17:19:32.037942Z",
     "start_time": "2023-12-20T17:19:31.399211Z"
    },
    "id": "bkG1LjB0s81d"
   },
   "outputs": [],
   "source": [
    "# разделим данные на обучающую и тестовую выборки\n",
    "from sklearn.model_selection import train_test_split\n",
    "\n",
    "X = data.drop('TARGET', axis=1)\n",
    "y = data['TARGET']\n",
    "\n",
    "Xtrain, Xtest, ytrain, ytest = train_test_split(X, y, train_size=0.7, random_state=123)\n",
    "Xtrain, Xval, ytrain, yval = train_test_split(Xtrain, ytrain, train_size=0.7, random_state=123)"
   ]
  },
  {
   "cell_type": "markdown",
   "metadata": {
    "id": "9g3cyUKPqgqu"
   },
   "source": [
    "В задании по методу ближайших соседей было найдено, что оптимальное число соседей k = 9.\n",
    "\n",
    "Обучите на тренировочных данных KNN с k = 9 и выведите матрицу ошибок, а также значение метрик precision и recall на тестовых данных."
   ]
  },
  {
   "cell_type": "code",
   "execution_count": 5,
   "metadata": {
    "ExecuteTime": {
     "end_time": "2023-12-20T17:19:37.829448Z",
     "start_time": "2023-12-20T17:19:37.728256Z"
    },
    "id": "efySFKgej1_1"
   },
   "outputs": [],
   "source": [
    "from sklearn.neighbors import KNeighborsClassifier\n",
    "from sklearn.metrics import confusion_matrix\n",
    "from sklearn.metrics import precision_score, recall_score"
   ]
  },
  {
   "cell_type": "code",
   "execution_count": 6,
   "metadata": {
    "ExecuteTime": {
     "end_time": "2023-12-20T17:19:40.893576Z",
     "start_time": "2023-12-20T17:19:40.798739Z"
    },
    "colab": {
     "base_uri": "https://localhost:8080/"
    },
    "id": "QzR_npzTj5OC",
    "outputId": "ef9813e3-e25b-4ea0-f4c4-ee1f87570ea8"
   },
   "outputs": [
    {
     "name": "stdout",
     "output_type": "stream",
     "text": [
      "Матрица ошибок:\n",
      "[[3981  553]\n",
      " [  27    6]]\n",
      "Точность модели: 0.01073345259391771\n",
      "Полнота модели: 0.18181818181818182\n"
     ]
    }
   ],
   "source": [
    "# ваш код здесь\n",
    "kne = KNeighborsClassifier(n_neighbors=9)\n",
    "kne.fit(Xtrain, ytrain)\n",
    "pred = kne.predict(Xtest)\n",
    "print(f'Матрица ошибок:\\n{confusion_matrix(pred, ytest)}')\n",
    "print(f'Точность модели: {precision_score(pred, ytest)}')\n",
    "print(f'Полнота модели: {recall_score(pred, ytest)}')"
   ]
  },
  {
   "cell_type": "markdown",
   "metadata": {
    "id": "E9Bk7tSerX-L"
   },
   "source": [
    "Какой вывод можно сделать:\n",
    "- для класса 0 — клиент не откликнулся — мы получили достаточно высокие значения TP в том числе потому, что представителей этого класса больше;\n",
    "- для класса 1 — клиент откликнулся — мы получили низкие значения TN.\n",
    "\n",
    "Поэтому значения precision и recall низкие. Модель даёт неудовлетворительные результаты, так как находит мало клиентов, которые откликнутся на предложение.\n",
    "\n"
   ]
  },
  {
   "cell_type": "markdown",
   "metadata": {
    "id": "zGmfshG9rmBn"
   },
   "source": [
    "Обучите логистическую регрессию с параметрами по умолчанию и посмотрите на метрики.\n",
    "\n",
    "Везде дальше при оценке метрик надо выводить confusion_matrix, precision и recall."
   ]
  },
  {
   "cell_type": "code",
   "execution_count": 7,
   "metadata": {
    "ExecuteTime": {
     "end_time": "2023-12-20T17:19:53.904560Z",
     "start_time": "2023-12-20T17:19:53.842023Z"
    },
    "colab": {
     "base_uri": "https://localhost:8080/"
    },
    "id": "7tOX78zbrPHB",
    "outputId": "66605b28-b0ab-4c6d-e914-eba3d2b21648"
   },
   "outputs": [
    {
     "name": "stdout",
     "output_type": "stream",
     "text": [
      "Матрица ошибок:\n",
      "[[4008  559]\n",
      " [   0    0]]\n",
      "Точность модели: 0.0\n",
      "Полнота модели: 0.0\n"
     ]
    }
   ],
   "source": [
    "from sklearn.linear_model import LogisticRegression\n",
    "\n",
    "# ваш код здесь\n",
    "lr = LogisticRegression()\n",
    "lr.fit(Xtrain, ytrain)\n",
    "pred = lr.predict(Xtest)\n",
    "print(f'Матрица ошибок:\\n{confusion_matrix(pred, ytest)}')\n",
    "print(f'Точность модели: {precision_score(pred, ytest)}')\n",
    "print(f'Полнота модели: {recall_score(pred, ytest)}')"
   ]
  },
  {
   "cell_type": "markdown",
   "metadata": {
    "id": "CvWGh7m9sTKM"
   },
   "source": [
    "Наша цель — найти как можно больше клиентов, которые откликнутся на предложение. А модель таких не находит.\n",
    "\n",
    "Мы помним, что метод predict_proba у логистической регрессии предсказывает математические (то есть корректные) вероятности классов. Предскажите вероятности классов с помощью обученной логистической регрессии на тестовых данных и выведите вероятности положительного класса для первых десяти объектов.\n",
    "\n",
    "Глядя на полученные вероятности, попробуйте объяснить, почему вы получили именно такую матрицу ошибок и такие значения точности с полноты."
   ]
  },
  {
   "cell_type": "code",
   "execution_count": 8,
   "metadata": {
    "ExecuteTime": {
     "end_time": "2023-12-20T17:20:02.174853Z",
     "start_time": "2023-12-20T17:20:02.127909Z"
    },
    "colab": {
     "base_uri": "https://localhost:8080/"
    },
    "id": "LNqjcxrwsLzl",
    "outputId": "734b9111-5b48-44b4-8105-816deb861b08"
   },
   "outputs": [
    {
     "data": {
      "text/plain": [
       "array([[0.85957588, 0.14042412],\n",
       "       [0.85892555, 0.14107445],\n",
       "       [0.80621842, 0.19378158],\n",
       "       [0.72848436, 0.27151564],\n",
       "       [0.87387784, 0.12612216],\n",
       "       [0.95896849, 0.04103151],\n",
       "       [0.95738122, 0.04261878],\n",
       "       [0.96343822, 0.03656178],\n",
       "       [0.91770149, 0.08229851],\n",
       "       [0.93213565, 0.06786435]])"
      ]
     },
     "execution_count": 8,
     "metadata": {},
     "output_type": "execute_result"
    }
   ],
   "source": [
    "# ваш код здесь\n",
    "pred_proba = lr.predict_proba(Xtest)\n",
    "pred_proba[:10]"
   ]
  },
  {
   "cell_type": "markdown",
   "metadata": {
    "id": "mwJzqbfv5yE4"
   },
   "source": [
    "# ваше объяснение здесь\n",
    "первые 10 объектов показывают что вероятность определения объектов положительного класса изменяется от 7% до 27% и поэтому модель со стандартным порогом \"50%\" не чуствительна к таким верояностям."
   ]
  },
  {
   "cell_type": "markdown",
   "metadata": {
    "id": "Z08xmRAcugGb"
   },
   "source": [
    "Давайте уточним цель. Пусть нам нужно найти как можно больше клиентов, которые откликнутся на предложение, то есть максимизировать полноту (recall).\n",
    "\n",
    "При этом хочется, чтобы точность модели (precision) не была очень низкой. Заказчик посмотрел на результаты работы KNN и потребовал, чтобы точность была не ниже, чем у KNN: $precision \\geq 0.13$."
   ]
  },
  {
   "cell_type": "markdown",
   "metadata": {
    "id": "f-syFkflt6EV"
   },
   "source": [
    "Давайте будем изменять порог для перевода вероятности в классы так, чтобы:\n",
    "*   максимизировать значение recall\n",
    "*   при условии, что $precision \\geq 0.13$.\n",
    "\n",
    "Если мы будем подбирать порог по тестовой выборке, то, по сути, обучимся на ней и, значит, переобучимся. Это плохо.\n",
    "\n",
    "Поэтому предскажите вероятности на валидационной выборке и подберите порог по ней (Xval, yval), а затем посмотрите, какое качество для найденного порога вы получите на тестовых данных."
   ]
  },
  {
   "cell_type": "code",
   "execution_count": 11,
   "metadata": {
    "ExecuteTime": {
     "end_time": "2023-12-20T17:20:57.539994Z",
     "start_time": "2023-12-20T17:20:54.923995Z"
    },
    "colab": {
     "base_uri": "https://localhost:8080/"
    },
    "id": "398pACpBtFi2",
    "outputId": "346db887-78ad-4acb-f739-484fd3dd1bf7"
   },
   "outputs": [
    {
     "name": "stdout",
     "output_type": "stream",
     "text": [
      "Лучший порог: 0.21900000000000017\n"
     ]
    }
   ],
   "source": [
    "# ваш код здесь\n",
    "lr.fit(Xval, yval)\n",
    "pred_proba = lr.predict_proba(Xtest)\n",
    "pred = pred_proba[:,1]\n",
    "\n",
    "max_recall = -1\n",
    "thr = -1\n",
    "max_precision = -1\n",
    "\n",
    "for threshold in np.arange(0.02, 1, 0.001):\n",
    "    # для каждого значения порога переведите вероятности в классы\n",
    "    # посчитайте метрики\n",
    "    probs_val = pred_proba[:,1]\n",
    "    probs = probs_val.copy()\n",
    "    probs[probs_val >= threshold] = 1.0\n",
    "    probs[probs_val < threshold] = 0\n",
    "    precision_score(probs, ytest)\n",
    "\n",
    "    if precision_score(probs, ytest) >= 0.13:\n",
    "        if recall_score(probs, ytest) > max_recall:\n",
    "            thr = threshold\n",
    "            pred = probs\n",
    "            max_precision = precision_score(probs, ytest)\n",
    "            max_recall = recall_score(probs, ytest)\n",
    "\n",
    "# напечатайте порог, для которого получается максимальная полнота, при precision >= 0.13\n",
    "print(f'Лучший порог: {thr}')"
   ]
  },
  {
   "cell_type": "code",
   "execution_count": 12,
   "metadata": {
    "ExecuteTime": {
     "end_time": "2023-12-20T17:21:07.354540Z",
     "start_time": "2023-12-20T17:21:07.347025Z"
    },
    "colab": {
     "base_uri": "https://localhost:8080/"
    },
    "id": "qpHv0DVwywKq",
    "outputId": "d8284d73-bc0c-433c-fb51-5f13e8294796"
   },
   "outputs": [
    {
     "name": "stdout",
     "output_type": "stream",
     "text": [
      "Первые 10 элементов предсказанных классов:[0. 0. 0. 1. 0. 0. 0. 0. 0. 0.]\n",
      "Точность при лучшем пороге: 0.13059033989266547\n",
      "Полнота при лучшем пороге: 0.20110192837465565\n"
     ]
    }
   ],
   "source": [
    "# по найденному порогу переведите вероятности в классы на тесте и напечатайте метрики\n",
    "print(f'Первые 10 элементов предсказанных классов:{pred[0:10]}')\n",
    "print(f'Точность при лучшем пороге: {max_precision}')\n",
    "print(f'Полнота при лучшем пороге: {max_recall}')"
   ]
  },
  {
   "cell_type": "markdown",
   "metadata": {
    "id": "fLakCD5TwmDe"
   },
   "source": [
    "Сделайте вывод. Смогли ли мы с помощью подбора порога добиться большего значения recall, чем у KNN?"
   ]
  },
  {
   "cell_type": "markdown",
   "metadata": {
    "id": "ayb8fZkr0ngr"
   },
   "source": [
    "# ваш вывод здесь\n",
    "Смогли добиться лучших значений полноты, теперь мы охватываем более 20% положительного класса. Методом KNN не охватывали положительный класс вообще."
   ]
  },
  {
   "cell_type": "markdown",
   "metadata": {
    "id": "zc1D7Hy8wvkR"
   },
   "source": [
    "А ещё, чтобы улучшить качество предсказания, можно подбирать значение гиперпараметра C у логистической регрессии. Для каждого значения C придётся подбирать свой порог, поэтому:  \n",
    "\n",
    "1. Обучите для значений C из диапазона [0.05, 0.15, 0.25, ...., 10.05] логистическую регрессию (на тренировочных данных).\n",
    "\n",
    "2. Для каждой из обученных моделей во внутреннем цикле подберите оптимальный порог (как в предыдущем задании) — на валидационных данных.\n",
    "\n",
    "\n",
    "\n",
    "В качестве результата выведите значение C и порога для модели, которая даёт наилучшие значения метрик (наибольший recall при ограничении на $precision \\geq 0.13$).\n",
    "\n",
    "Также напечатайте полученные метрики (матрицу ошибок, точность и полноту) для лучшей модели — на тестовых данных."
   ]
  },
  {
   "cell_type": "code",
   "execution_count": 14,
   "metadata": {
    "ExecuteTime": {
     "end_time": "2023-12-20T17:24:58.152431Z",
     "start_time": "2023-12-20T17:23:06.452928Z"
    },
    "colab": {
     "base_uri": "https://localhost:8080/"
    },
    "id": "EhjmTEkhuT9S",
    "outputId": "a8cd5f84-94ce-46a2-f56b-743aa0307b81"
   },
   "outputs": [
    {
     "name": "stdout",
     "output_type": "stream",
     "text": [
      "Рассчитанный шаг:\n",
      "1... 2... 3... 4... 5... 6... 7... 8... 9... 10... 11... 12... 13... 14... 15... 16... 17... 18... 19... 20... 21... 22... 23... 24... 25... 26... 27... 28... 29... 30... 31... 32... 33... 34... 35... 36... 37... 38... 39... 40... 41... 42... 43... 44... 45... 46... 47... 48... 49... 50... 51... 52... 53... 54... 55... 56... 57... 58... 59... 60... 61... 62... 63... 64... 65... 66... 67... 68... 69... 70... 71... 72... 73... 74... 75... 76... 77... 78... 79... 80... 81... 82... 83... 84... 85... 86... 87... 88... 89... 90... 91... 92... 93... 94... 95... 96... 97... 98... 99... 100... 101... 102... 103... 104... 105... 106... 107... 108... 109... 110... 111... 112... 113... 114... 115... 116... 117... 118... 119... 120... "
     ]
    }
   ],
   "source": [
    "regs = []\n",
    "recalls = []\n",
    "thresholds = []\n",
    "precisions = []\n",
    "step = 1\n",
    "\n",
    "print('Рассчитанный шаг:')\n",
    "for reg in np.arange(0.001, 1.2, 0.01):\n",
    "\n",
    "    # обучите логистическую регрессию с C=reg\n",
    "    print(f'{step}', end='... ')\n",
    "    step +=1\n",
    "    lr = LogisticRegression(C=reg)\n",
    "    lr.fit(Xtrain, ytrain)\n",
    "    pred_proba = lr.predict_proba(Xtest)\n",
    "    pred = pred_proba[:,1]\n",
    "\n",
    "    thr = -1\n",
    "    max_precision = -1\n",
    "    max_recall = -1\n",
    "\n",
    "    for threshold in np.arange(0.05, 0.25, 0.001):\n",
    "        # подберите оптимальный порог как в задании выше\n",
    "        probs_val = pred_proba[:,1]\n",
    "        probs = probs_val.copy()\n",
    "        probs[probs_val >= threshold] = 1.0\n",
    "        probs[probs_val < threshold] = 0\n",
    "        precision_score(probs, ytest)\n",
    "        \n",
    "        if precision_score(probs, ytest) >= 0.13:\n",
    "            if recall_score(probs, ytest) > max_recall:\n",
    "                thr = threshold\n",
    "                pred = probs\n",
    "                max_precision = precision_score(probs, ytest)\n",
    "                max_recall = recall_score(probs, ytest)\n",
    "\n",
    "\n",
    "    thresholds.append(thr)\n",
    "    recalls.append(max_recall)\n",
    "    precisions.append(max_precision)\n",
    "    regs.append(reg)"
   ]
  },
  {
   "cell_type": "code",
   "execution_count": 15,
   "metadata": {
    "ExecuteTime": {
     "end_time": "2023-12-20T17:25:03.486554Z",
     "start_time": "2023-12-20T17:25:03.476054Z"
    },
    "colab": {
     "base_uri": "https://localhost:8080/"
    },
    "id": "DZtXAIxi0Ksr",
    "outputId": "a352c782-fead-4a20-e7d7-9b7465a3461f"
   },
   "outputs": [
    {
     "name": "stdout",
     "output_type": "stream",
     "text": [
      "Лучшая полнота: 0.19543147208121828\n",
      "Лучшая точность: 0.13774597495527727\n",
      "Лучший порог: 0.23000000000000015\n",
      "Лучшее значение параметра С: 0.030999999999999996\n"
     ]
    }
   ],
   "source": [
    "# выведите значения C, precision, recall, threshold для наилучшей по заданным условиям модели\n",
    "#print(f'Полнота при лучшем пороге: {max_recall[max(index(max_precision)]}')\n",
    "print(f'Лучшая полнота: {max(recalls)}')\n",
    "print(f'Лучшая точность: {precisions[recalls.index(max(recalls))]}')\n",
    "print(f'Лучший порог: {thresholds[recalls.index(max(recalls))]}')\n",
    "print(f'Лучшее значение параметра С: {regs[recalls.index(max(recalls))]}')"
   ]
  },
  {
   "cell_type": "code",
   "execution_count": 18,
   "metadata": {
    "ExecuteTime": {
     "end_time": "2023-12-20T17:29:13.241189Z",
     "start_time": "2023-12-20T17:29:13.184777Z"
    },
    "colab": {
     "base_uri": "https://localhost:8080/"
    },
    "id": "rQLQZ1bg4BGy",
    "outputId": "a2641bd3-116f-466e-d68b-c4ebc14bd3a2"
   },
   "outputs": [
    {
     "name": "stdout",
     "output_type": "stream",
     "text": [
      "Матрица ошибок:\n",
      "[[3691  482]\n",
      " [ 317   77]]\n",
      "Точность модели: 0.13774597495527727\n",
      "Полнота модели: 0.19543147208121828\n"
     ]
    }
   ],
   "source": [
    "# с помощью найденных C и threshold обучите модель на тренировочных данных, сделайте предсказание на тесте\n",
    "# и по найденному порогу получите классы, напечатайте метрики\n",
    "Xtrain, Xtest, ytrain, ytest = train_test_split(X, y, train_size=0.7, random_state=123)\n",
    "lr = LogisticRegression(C=0.03)\n",
    "lr.fit(Xtrain, ytrain)\n",
    "proba = lr.predict_proba(Xtest)\n",
    "pred_proba = proba[:,1]\n",
    "pred[probs_val >= 0.23] = 1.0\n",
    "pred[probs_val < 0.23] = 0\n",
    "print(f'Матрица ошибок:\\n{confusion_matrix(pred, ytest)}')\n",
    "print(f'Точность модели: {precision_score(pred, ytest)}')\n",
    "print(f'Полнота модели: {recall_score(pred, ytest)}')"
   ]
  },
  {
   "cell_type": "markdown",
   "metadata": {
    "id": "fwpx_UVS2DK_"
   },
   "source": [
    "Влияет ли изменение гиперпараметра C на качество модели (и, соответственно, метрики) в этой задаче?"
   ]
  },
  {
   "cell_type": "markdown",
   "metadata": {
    "id": "FzTsUr7p7Eu-"
   },
   "source": [
    "# ваш вывод здесь\n",
    "Изменение гиперпараметра С - влияет на качесвто модели, так как изменяет полноту и точность предсказаний"
   ]
  },
  {
   "cell_type": "markdown",
   "metadata": {
    "id": "EEjaOk7ZMZGI"
   },
   "source": []
  },
  {
   "cell_type": "markdown",
   "metadata": {
    "id": "BaCqlDx74pns"
   },
   "source": [
    "Ответьте развёрнуто на следующие вопросы:\n",
    "\n",
    "* Удалось ли при помощи логистической регрессии и подбора порога превзойти качество метода ближайших соседей в этой задаче?\n",
    "\n",
    "* Смогли ли мы при помощи этой модели получить высокий recall при ограничениях, поставленных заказчиком?\n"
   ]
  },
  {
   "cell_type": "markdown",
   "metadata": {
    "id": "upznWo7n4o0F"
   },
   "source": [
    "# ваш вывод здесь\n",
    "1) С помощью модели логистической регрессии удалось получить лучшую модель чем методом ближайших соседенй:\n",
    " - метрика полноты модели возросла на 10 пп с 18,2% до 20,1%,  \n",
    " - метрика точности увеличилась на 12 пп с 1,1% до 13,1%.  \n",
    "   \n",
    "2) При помощи модели Логистической регрессии с учётом ограничений, поставленных заказчиком, мы не смогли получить высокуй recall (он составил только 20,1%). Однако это значение заметно выше чем при обучении модели методом ближайших сососедей."
   ]
  }
 ],
 "metadata": {
  "colab": {
   "provenance": []
  },
  "kernelspec": {
   "display_name": "Python 3 (ipykernel)",
   "language": "python",
   "name": "python3"
  },
  "language_info": {
   "codemirror_mode": {
    "name": "ipython",
    "version": 3
   },
   "file_extension": ".py",
   "mimetype": "text/x-python",
   "name": "python",
   "nbconvert_exporter": "python",
   "pygments_lexer": "ipython3",
   "version": "3.9.13"
  },
  "toc": {
   "base_numbering": 1,
   "nav_menu": {},
   "number_sections": true,
   "sideBar": true,
   "skip_h1_title": false,
   "title_cell": "Table of Contents",
   "title_sidebar": "Contents",
   "toc_cell": false,
   "toc_position": {},
   "toc_section_display": true,
   "toc_window_display": false
  },
  "varInspector": {
   "cols": {
    "lenName": 16,
    "lenType": 16,
    "lenVar": 40
   },
   "kernels_config": {
    "python": {
     "delete_cmd_postfix": "",
     "delete_cmd_prefix": "del ",
     "library": "var_list.py",
     "varRefreshCmd": "print(var_dic_list())"
    },
    "r": {
     "delete_cmd_postfix": ") ",
     "delete_cmd_prefix": "rm(",
     "library": "var_list.r",
     "varRefreshCmd": "cat(var_dic_list()) "
    }
   },
   "types_to_exclude": [
    "module",
    "function",
    "builtin_function_or_method",
    "instance",
    "_Feature"
   ],
   "window_display": false
  }
 },
 "nbformat": 4,
 "nbformat_minor": 1
}
