{
 "cells": [
  {
   "cell_type": "markdown",
   "metadata": {
    "id": "m9QWlN-lq0qw"
   },
   "source": [
    "# Метрическая классификация. Метод ближайших соседей и его развитие\n",
    "# Практическая работа"
   ]
  },
  {
   "cell_type": "markdown",
   "metadata": {
    "id": "mbvb7kgYlESw"
   },
   "source": [
    "## Цели практической работы\n",
    "Научиться:\n",
    "- строить модель методом ближайших соседей на реальных данных;\n",
    "- правильно определять качество работы модели.\n"
   ]
  },
  {
   "cell_type": "markdown",
   "metadata": {
    "id": "voCLRWvvllfQ"
   },
   "source": [
    "## Что входит в практическую работу\n",
    "\n",
    "\n",
    "- Загрузить данные и ознакомиться с ними.\n",
    "- Изучить данные и провести анализ.\n",
    "- Разделить данные на обучающую и тестовую выборки.\n",
    "- Реализовать построение модели с помощью  библиотеки Scikit-learn.\n",
    "- Подобрать оптимальное число ближайших соседей методом leave-one-out.\n",
    "- Получить качество модели с помощью F-меры и матрицы сопряжённости."
   ]
  },
  {
   "cell_type": "markdown",
   "metadata": {
    "id": "pN4yp9hEVYQ5"
   },
   "source": [
    "## Что оценивается\n",
    "\n",
    "1. Выполнение всех этапов работы.\n",
    "2. Наличие вывода по результатам.\n",
    "3. Непереобученность модели.\n",
    "4. Качество модели.\n"
   ]
  },
  {
   "cell_type": "markdown",
   "metadata": {
    "id": "Pt1uE6B-VbVZ"
   },
   "source": [
    "**Как отправить работу на проверку?**\n",
    "\n",
    "1. Скачайте файл с заданием в материалах, откройте его через Jupyter Notebook и выполните задачу. \n",
    "2. Сохраните изменения при помощи опции Save and Checkpoint из вкладки File или кнопки Save and Checkpoint на панели инструментов. \n",
    "3. Отправьте через форму ниже итоговый файл Jupyter Notebook (в формате .ipynb) или ссылку на него.\n",
    "\n",
    "\n"
   ]
  },
  {
   "cell_type": "markdown",
   "metadata": {
    "id": "4Nb7eTxYWWUe"
   },
   "source": [
    "# Задача"
   ]
  },
  {
   "cell_type": "markdown",
   "metadata": {
    "id": "ug5TQChn6KiJ"
   },
   "source": [
    "Один из способов повысить эффективность взаимодействия банка с клиентами — отправлять предложение о новой услуге не всем клиентам, а только некоторым, которые выбираются по принципу наибольшей склонности к отклику на это предложение.\n",
    "\n",
    "Задача заключается в том, чтобы предложить алгоритм, который будет выдавать склонность клиента к положительному или отрицательному отклику на предложение банка. Предполагается, что, получив такие оценки для некоторого множества клиентов, банк обратится с предложением только к тем, от кого ожидается положительный отклик.\n"
   ]
  },
  {
   "cell_type": "markdown",
   "metadata": {
    "id": "5k52FwP156I6"
   },
   "source": [
    "Для решения этой задачи загрузите дамп базы в Postgres. \n",
    "Эта БД хранит информацию о клиентах банка и их персональные данные, такие как пол, количество детей и другие.\n",
    "\n",
    "Описание таблиц с данными представлено ниже.\n"
   ]
  },
  {
   "cell_type": "markdown",
   "metadata": {
    "id": "3HYLpuwA6dAw"
   },
   "source": [
    "**D_work**\n",
    "\n",
    "Описание статусов относительно работы:\n",
    "- ID — идентификатор социального статуса клиента относительно работы;\n",
    "- COMMENT — расшифровка статуса.\n",
    "\n",
    "\n",
    "**D_pens**\n",
    "\n",
    "Описание статусов относительно пенсии:\n",
    "- ID — идентификатор социального статуса;\n",
    "- COMMENT — расшифровка статуса.\n",
    "\n",
    "\n",
    "**D_clients**\n",
    "\n",
    "Описание данных клиентов:\n",
    "- ID — идентификатор записи;\n",
    "- AGE\t— возраст клиента;\n",
    "- GENDER — пол клиента (1 — мужчина, 0 — женщина);\n",
    "- EDUCATION — образование;\n",
    "- MARITAL_STATUS — семейное положение;\n",
    "- CHILD_TOTAL\t— количество детей клиента;\n",
    "- DEPENDANTS — количество иждивенцев клиента;\n",
    "- SOCSTATUS_WORK_FL\t— социальный статус клиента относительно работы (1 — работает, 0 — не работает);\n",
    "- SOCSTATUS_PENS_FL\t— социальный статус клиента относительно пенсии (1 — пенсионер, 0 — не пенсионер);\n",
    "- REG_ADDRESS_PROVINCE — область регистрации клиента;\n",
    "- FACT_ADDRESS_PROVINCE — область фактического пребывания клиента;\n",
    "- POSTAL_ADDRESS_PROVINCE — почтовый адрес области;\n",
    "- FL_PRESENCE_FL — наличие в собственности квартиры (1 — есть, 0 — нет);\n",
    "- OWN_AUTO — количество автомобилей в собственности. \n",
    "\n",
    "\n",
    "**D_agreement**\n",
    "\n",
    "Таблица с зафиксированными откликами клиентов на предложения банка:\n",
    "- AGREEMENT_RK — уникальный идентификатор объекта в выборке;\n",
    "- ID_CLIENT — идентификатор клиента;\n",
    "- TARGET — целевая переменная: отклик на маркетинговую кампанию (1 — отклик был зарегистрирован, 0 — отклика не было).\n",
    "    \n",
    "    \n",
    "**D_job**\n",
    "\n",
    "Описание информации о работе клиентов:\n",
    "- GEN_INDUSTRY — отрасль работы клиента;\n",
    "- GEN_TITLE — должность;\n",
    "- JOB_DIR — направление деятельности внутри компании;\n",
    "- WORK_TIME — время работы на текущем месте (в месяцах);\n",
    "- ID_CLIENT — идентификатор клиента.\n",
    "\n",
    "\n",
    "**D_salary**\n",
    "\n",
    "Описание информации о заработной плате клиентов:\n",
    "- ID_CLIENT — идентификатор клиента;\n",
    "- FAMILY_INCOME — семейный доход (несколько категорий);\n",
    "- PERSONAL_INCOME — личный доход клиента (в рублях).\n",
    "\n",
    "\n",
    "**D_last_credit**\n",
    "\n",
    "Информация о последнем займе клиента:\n",
    "- ID_CLIENT — идентификатор клиента;\n",
    "- CREDIT — сумма последнего кредита клиента (в рублях);\n",
    "- TERM — срок кредита;\n",
    "- FST_PAYMENT — первоначальный взнос (в рублях).\n",
    "\n",
    "\n",
    "**D_loan**\n",
    "\n",
    "Информация о кредитной истории клиента:\n",
    "- ID_CLIENT — идентификатор клиента;\n",
    "- ID_LOAN — идентификатор кредита.\n",
    "\n",
    "**D_close_loan**\n",
    "\n",
    "Информация о статусах кредита (ссуд):\n",
    "- ID_LOAN — идентификатор кредита;\n",
    "- CLOSED_FL — текущий статус кредита (1 — закрыт, 0 — не закрыт)."
   ]
  },
  {
   "cell_type": "markdown",
   "metadata": {
    "id": "eTXp2LYR6dCm"
   },
   "source": [
    "1. Изучите состав БД с помощью инструмента отрисовки ERD-диаграмм (Entity Relationship diagram отображает все сущности БД, а также визуализирует связность таблиц). Соберите датасет следующей структуры из данных, имеющихся в базе:"
   ]
  },
  {
   "cell_type": "markdown",
   "metadata": {
    "id": "xDZKZYCtmbwi"
   },
   "source": [
    "    - AGREEMENT_RK — уникальный идентификатор объекта в выборке;\n",
    "    - TARGET — целевая переменная: отклик на маркетинговую кампанию (1 — отклик был зарегистрирован, 0 — отклика не было);\n",
    "    - AGE — возраст клиента;\n",
    "    - SOCSTATUS_WORK_FL — социальный статус клиента относительно работы (1 — работает, 0 — не работает);\n",
    "    - SOCSTATUS_PENS_FL — социальный статус клиента относительно пенсии (1 — пенсионер, 0 — не пенсионер);\n",
    "    - GENDER — пол клиента (1 — мужчина, 0 — женщина);\n",
    "    - CHILD_TOTAL — количество детей клиента;\n",
    "    - DEPENDANTS — количество иждивенцев клиента;\n",
    "    - PERSONAL_INCOME — личный доход клиента (в рублях);\n",
    "    - LOAN_NUM_TOTAL — количество ссуд клиента;\n",
    "    - LOAN_NUM_CLOSED — количество погашенных ссуд клиента.\n"
   ]
  },
  {
   "cell_type": "markdown",
   "metadata": {
    "id": "EDpojLFeAw2Y"
   },
   "source": [
    "Будьте внимательны при сборке датасета: это реальные банковские данные, в которых могут наблюдаться дубли, некорректно заполненные значения или значения, противоречащие друг другу. Для получения качественной модели необходимо предварительно очистить датасет от такой информации."
   ]
  },
  {
   "cell_type": "markdown",
   "metadata": {
    "id": "b6goKA2-mrnv"
   },
   "source": [
    "2. Постройте модель зависимости TARGET от остальных параметров получившейся таблицы методом ближайших соседей."
   ]
  },
  {
   "cell_type": "markdown",
   "metadata": {
    "id": "gJCAiMPemxqH"
   },
   "source": [
    "3. Получите качество модели с помощью F-меры и матрицы сопряжённости."
   ]
  },
  {
   "cell_type": "markdown",
   "metadata": {
    "id": "GERgJvyYmQEZ"
   },
   "source": [
    "Что нужно сделать после сбора таблицы:"
   ]
  },
  {
   "cell_type": "code",
   "execution_count": 10,
   "metadata": {
    "ExecuteTime": {
     "end_time": "2023-12-14T13:53:53.954394Z",
     "start_time": "2023-12-14T13:53:53.796646Z"
    },
    "id": "bQvgKoWyid7b"
   },
   "outputs": [],
   "source": [
    "# подключить необходимые библиотеки\n",
    "\n",
    "# Ваш код здесь\n",
    "#!pip install psycopg2-binary\n",
    "import psycopg2 as pg\n",
    "import pandas as pd"
   ]
  },
  {
   "cell_type": "markdown",
   "metadata": {},
   "source": [
    "![](database_modul_6.png)"
   ]
  },
  {
   "cell_type": "code",
   "execution_count": 11,
   "metadata": {
    "ExecuteTime": {
     "end_time": "2023-12-14T13:53:55.218412Z",
     "start_time": "2023-12-14T13:53:55.168544Z"
    },
    "id": "bKtwCaVgm-g2"
   },
   "outputs": [
    {
     "name": "stdout",
     "output_type": "stream",
     "text": [
      "Перечень всех таблиц:\n",
      " d_work d_clients d_agreement d_last_credit d_job d_loan d_close_loan d_salary d_pens\n"
     ]
    }
   ],
   "source": [
    "# считать данные\n",
    "\n",
    "# Ваш код здесь\n",
    "\n",
    "# Подключимся к базе данных\n",
    "conn =pg.connect(dbname='module_6', user='work', password='postgres', host='localhost')\n",
    "cursor = conn.cursor()\n",
    "# Прочитаем названия публичных таблиц базы данных\n",
    "cursor.execute('''\n",
    "                  SELECT table_name\n",
    "                  FROM information_schema.tables\n",
    "                  WHERE table_schema='public' AND table_type='BASE TABLE'\n",
    "              ''')\n",
    "tables = [name_table[0] for name_table in cursor.fetchall()]\n",
    "print('Перечень всех таблиц:\\n', *tables)"
   ]
  },
  {
   "cell_type": "code",
   "execution_count": 12,
   "metadata": {
    "ExecuteTime": {
     "end_time": "2023-12-14T13:53:56.258893Z",
     "start_time": "2023-12-14T13:53:55.827015Z"
    }
   },
   "outputs": [
    {
     "name": "stderr",
     "output_type": "stream",
     "text": [
      "/opt/anaconda3/lib/python3.9/site-packages/pandas/io/sql.py:762: UserWarning: pandas only support SQLAlchemy connectable(engine/connection) ordatabase string URI or sqlite3 DBAPI2 connectionother DBAPI2 objects are not tested, please consider using SQLAlchemy\n",
      "  warnings.warn(\n",
      "/opt/anaconda3/lib/python3.9/site-packages/pandas/io/sql.py:762: UserWarning: pandas only support SQLAlchemy connectable(engine/connection) ordatabase string URI or sqlite3 DBAPI2 connectionother DBAPI2 objects are not tested, please consider using SQLAlchemy\n",
      "  warnings.warn(\n",
      "/opt/anaconda3/lib/python3.9/site-packages/pandas/io/sql.py:762: UserWarning: pandas only support SQLAlchemy connectable(engine/connection) ordatabase string URI or sqlite3 DBAPI2 connectionother DBAPI2 objects are not tested, please consider using SQLAlchemy\n",
      "  warnings.warn(\n",
      "/opt/anaconda3/lib/python3.9/site-packages/pandas/io/sql.py:762: UserWarning: pandas only support SQLAlchemy connectable(engine/connection) ordatabase string URI or sqlite3 DBAPI2 connectionother DBAPI2 objects are not tested, please consider using SQLAlchemy\n",
      "  warnings.warn(\n",
      "/opt/anaconda3/lib/python3.9/site-packages/pandas/io/sql.py:762: UserWarning: pandas only support SQLAlchemy connectable(engine/connection) ordatabase string URI or sqlite3 DBAPI2 connectionother DBAPI2 objects are not tested, please consider using SQLAlchemy\n",
      "  warnings.warn(\n"
     ]
    },
    {
     "name": "stdout",
     "output_type": "stream",
     "text": [
      "Для таблицы d_work заполнен датафрейм df_d_work.\n",
      "  Размер таблицы: (3, 2).\n",
      "  Дубликатов в таблице: 0 нет\n",
      "\n",
      "Для таблицы d_clients заполнен датафрейм df_d_clients.\n",
      "  Размер таблицы: (16000, 14).\n",
      "  Дубликатов в таблице: 0 нет\n",
      "\n",
      "Для таблицы d_agreement заполнен датафрейм df_d_agreement.\n",
      "  Размер таблицы: (15223, 3).\n",
      "  Дубликатов в таблице: 0 нет\n",
      "\n",
      "Для таблицы d_last_credit заполнен датафрейм df_d_last_credit.\n",
      "  Размер таблицы: (15223, 4).\n",
      "  Дубликатов в таблице: 0 нет\n",
      "\n",
      "Для таблицы d_job заполнен датафрейм df_d_job.\n",
      "  Размер таблицы: (15223, 5).\n",
      "  Дубликатов в таблице: 0 нет\n",
      "\n",
      "Для таблицы d_loan заполнен датафрейм df_d_loan.\n",
      "  Размер таблицы: (21126, 2).\n",
      "  Дубликатов в таблице: 0 нет\n",
      "\n",
      "Для таблицы d_close_loan заполнен датафрейм df_d_close_loan.\n",
      "  Размер таблицы: (21126, 2).\n",
      "  Дубликатов в таблице: 0 нет\n",
      "\n",
      "Для таблицы d_salary заполнен датафрейм df_d_salary.\n",
      "  Размер таблицы: (15523, 3).\n",
      "  В таблице дубликатов: 300. Дубликаты удалены. Размер обновлённой таблицы: (15223, 3)\n",
      "\n",
      "Для таблицы d_pens заполнен датафрейм df_d_pens.\n",
      "  Размер таблицы: (2, 2).\n",
      "  Дубликатов в таблице: 0 нет\n",
      "\n"
     ]
    },
    {
     "name": "stderr",
     "output_type": "stream",
     "text": [
      "/opt/anaconda3/lib/python3.9/site-packages/pandas/io/sql.py:762: UserWarning: pandas only support SQLAlchemy connectable(engine/connection) ordatabase string URI or sqlite3 DBAPI2 connectionother DBAPI2 objects are not tested, please consider using SQLAlchemy\n",
      "  warnings.warn(\n",
      "/opt/anaconda3/lib/python3.9/site-packages/pandas/io/sql.py:762: UserWarning: pandas only support SQLAlchemy connectable(engine/connection) ordatabase string URI or sqlite3 DBAPI2 connectionother DBAPI2 objects are not tested, please consider using SQLAlchemy\n",
      "  warnings.warn(\n",
      "/opt/anaconda3/lib/python3.9/site-packages/pandas/io/sql.py:762: UserWarning: pandas only support SQLAlchemy connectable(engine/connection) ordatabase string URI or sqlite3 DBAPI2 connectionother DBAPI2 objects are not tested, please consider using SQLAlchemy\n",
      "  warnings.warn(\n",
      "/opt/anaconda3/lib/python3.9/site-packages/pandas/io/sql.py:762: UserWarning: pandas only support SQLAlchemy connectable(engine/connection) ordatabase string URI or sqlite3 DBAPI2 connectionother DBAPI2 objects are not tested, please consider using SQLAlchemy\n",
      "  warnings.warn(\n"
     ]
    }
   ],
   "source": [
    "# Заполним датафреймы данными из публичных таблиц базы данных\n",
    "names_df = []\n",
    "count_duplicated = 0\n",
    "for table in tables:\n",
    "    query = f'SELECT * FROM {table}'\n",
    "    name_df = f'df_{table}'\n",
    "    locals()[name_df] = pd.read_sql(query, conn)\n",
    "    print(f'Для таблицы {table} заполнен датафрейм {name_df}.')\n",
    "    print(f'  Размер таблицы: {locals()[name_df].shape}.')\n",
    "    count_duplicated = len(locals()[name_df][locals()[name_df].duplicated()])\n",
    "    names_df.append(name_df)\n",
    "    if count_duplicated > 0:\n",
    "        print(f'  В таблице дубликатов: {count_duplicated}.', end=' ')\n",
    "        locals()[name_df].drop_duplicates(inplace=True)\n",
    "        print(f'Дубликаты удалены. Размер обновлённой таблицы: {locals()[name_df].shape}\\n')\n",
    "    else:\n",
    "        print(f'  Дубликатов в таблице: {count_duplicated} нет\\n')\n",
    "        "
   ]
  },
  {
   "cell_type": "code",
   "execution_count": 13,
   "metadata": {
    "ExecuteTime": {
     "end_time": "2023-12-14T13:53:56.423511Z",
     "start_time": "2023-12-14T13:53:56.382556Z"
    }
   },
   "outputs": [
    {
     "name": "stdout",
     "output_type": "stream",
     "text": [
      "СТРУКТУРА ДАТАФРЕЙМА df_d_work:\n",
      "<class 'pandas.core.frame.DataFrame'>\n",
      "RangeIndex: 3 entries, 0 to 2\n",
      "Data columns (total 2 columns):\n",
      " #   Column   Non-Null Count  Dtype  \n",
      "---  ------   --------------  -----  \n",
      " 0   id       3 non-null      float64\n",
      " 1   comment  3 non-null      object \n",
      "dtypes: float64(1), object(1)\n",
      "memory usage: 176.0+ bytes\n",
      "None \n",
      "\n",
      "ПРИМЕР СТРОКИ ДАТАФРЕЙМА df_d_work:\n",
      "    id      comment\n",
      "0  1.0     работает\n",
      "1  2.0  не работает \n",
      "\n",
      "\n",
      "СТРУКТУРА ДАТАФРЕЙМА df_d_clients:\n",
      "<class 'pandas.core.frame.DataFrame'>\n",
      "RangeIndex: 16000 entries, 0 to 15999\n",
      "Data columns (total 14 columns):\n",
      " #   Column                   Non-Null Count  Dtype  \n",
      "---  ------                   --------------  -----  \n",
      " 0   id                       16000 non-null  float64\n",
      " 1   age                      16000 non-null  float64\n",
      " 2   gender                   16000 non-null  float64\n",
      " 3   education                16000 non-null  object \n",
      " 4   marital_status           16000 non-null  object \n",
      " 5   child_total              16000 non-null  float64\n",
      " 6   dependants               16000 non-null  float64\n",
      " 7   socstatus_work_fl        16000 non-null  float64\n",
      " 8   socstatus_pens_fl        16000 non-null  float64\n",
      " 9   reg_address_province     16000 non-null  object \n",
      " 10  fact_address_province    16000 non-null  object \n",
      " 11  postal_address_province  16000 non-null  object \n",
      " 12  fl_presence_fl           16000 non-null  float64\n",
      " 13  own_auto                 16000 non-null  float64\n",
      "dtypes: float64(9), object(5)\n",
      "memory usage: 1.7+ MB\n",
      "None \n",
      "\n",
      "ПРИМЕР СТРОКИ ДАТАФРЕЙМА df_d_clients:\n",
      "            id   age  gender            education      marital_status  \\\n",
      "0  106805103.0  42.0     1.0              Среднее  Не состоял в браке   \n",
      "1  106809308.0  28.0     1.0  Среднее специальное      Состою в браке   \n",
      "\n",
      "   child_total  dependants  socstatus_work_fl  socstatus_pens_fl  \\\n",
      "0          1.0         0.0                2.0                1.0   \n",
      "1          1.0         1.0                2.0                1.0   \n",
      "\n",
      "  reg_address_province fact_address_province postal_address_province  \\\n",
      "0   Московская область    Московская область      Московская область   \n",
      "1    Читинская область     Читинская область       Читинская область   \n",
      "\n",
      "   fl_presence_fl  own_auto  \n",
      "0             1.0       0.0  \n",
      "1             0.0       0.0   \n",
      "\n",
      "\n",
      "СТРУКТУРА ДАТАФРЕЙМА df_d_agreement:\n",
      "<class 'pandas.core.frame.DataFrame'>\n",
      "RangeIndex: 15223 entries, 0 to 15222\n",
      "Data columns (total 3 columns):\n",
      " #   Column        Non-Null Count  Dtype  \n",
      "---  ------        --------------  -----  \n",
      " 0   agreement_rk  15223 non-null  float64\n",
      " 1   id_client     15223 non-null  float64\n",
      " 2   target        15223 non-null  float64\n",
      "dtypes: float64(3)\n",
      "memory usage: 356.9 KB\n",
      "None \n",
      "\n",
      "ПРИМЕР СТРОКИ ДАТАФРЕЙМА df_d_agreement:\n",
      "   agreement_rk    id_client  target\n",
      "0    59910150.0  106804370.0     0.0\n",
      "1    59910230.0  106804371.0     0.0 \n",
      "\n",
      "\n",
      "СТРУКТУРА ДАТАФРЕЙМА df_d_last_credit:\n",
      "<class 'pandas.core.frame.DataFrame'>\n",
      "RangeIndex: 15223 entries, 0 to 15222\n",
      "Data columns (total 4 columns):\n",
      " #   Column       Non-Null Count  Dtype  \n",
      "---  ------       --------------  -----  \n",
      " 0   credit       15223 non-null  float64\n",
      " 1   term         15223 non-null  float64\n",
      " 2   fst_payment  15223 non-null  float64\n",
      " 3   id_client    15223 non-null  float64\n",
      "dtypes: float64(4)\n",
      "memory usage: 475.8 KB\n",
      "None \n",
      "\n",
      "ПРИМЕР СТРОКИ ДАТАФРЕЙМА df_d_last_credit:\n",
      "    credit  term  fst_payment    id_client\n",
      "0   8000.0   6.0       8650.0  106804370.0\n",
      "1  21650.0   6.0       4000.0  106804371.0 \n",
      "\n",
      "\n",
      "СТРУКТУРА ДАТАФРЕЙМА df_d_job:\n",
      "<class 'pandas.core.frame.DataFrame'>\n",
      "RangeIndex: 15223 entries, 0 to 15222\n",
      "Data columns (total 5 columns):\n",
      " #   Column        Non-Null Count  Dtype  \n",
      "---  ------        --------------  -----  \n",
      " 0   gen_industry  13856 non-null  object \n",
      " 1   gen_title     13856 non-null  object \n",
      " 2   job_dir       13856 non-null  object \n",
      " 3   work_time     13855 non-null  float64\n",
      " 4   id_client     15223 non-null  float64\n",
      "dtypes: float64(2), object(3)\n",
      "memory usage: 594.8+ KB\n",
      "None \n",
      "\n",
      "ПРИМЕР СТРОКИ ДАТАФРЕЙМА df_d_job:\n",
      "  gen_industry gen_title                        job_dir  work_time  \\\n",
      "0     Торговля   Рабочий    Вспомогательный техперсонал       18.0   \n",
      "1     Торговля   Рабочий  Участие в основ. деятельности       97.0   \n",
      "\n",
      "     id_client  \n",
      "0  106804370.0  \n",
      "1  106804371.0   \n",
      "\n",
      "\n",
      "СТРУКТУРА ДАТАФРЕЙМА df_d_loan:\n",
      "<class 'pandas.core.frame.DataFrame'>\n",
      "RangeIndex: 21126 entries, 0 to 21125\n",
      "Data columns (total 2 columns):\n",
      " #   Column     Non-Null Count  Dtype  \n",
      "---  ------     --------------  -----  \n",
      " 0   id_loan    21126 non-null  float64\n",
      " 1   id_client  21126 non-null  float64\n",
      "dtypes: float64(2)\n",
      "memory usage: 330.2 KB\n",
      "None \n",
      "\n",
      "ПРИМЕР СТРОКИ ДАТАФРЕЙМА df_d_loan:\n",
      "        id_loan    id_client\n",
      "0  1.753791e+09  106804370.0\n",
      "1  1.753791e+09  106804371.0 \n",
      "\n",
      "\n",
      "СТРУКТУРА ДАТАФРЕЙМА df_d_close_loan:\n",
      "<class 'pandas.core.frame.DataFrame'>\n",
      "RangeIndex: 21126 entries, 0 to 21125\n",
      "Data columns (total 2 columns):\n",
      " #   Column     Non-Null Count  Dtype  \n",
      "---  ------     --------------  -----  \n",
      " 0   id_loan    21126 non-null  float64\n",
      " 1   closed_fl  21126 non-null  float64\n",
      "dtypes: float64(2)\n",
      "memory usage: 330.2 KB\n",
      "None \n",
      "\n",
      "ПРИМЕР СТРОКИ ДАТАФРЕЙМА df_d_close_loan:\n",
      "        id_loan  closed_fl\n",
      "0  1.753791e+09        1.0\n",
      "1  1.753791e+09        1.0 \n",
      "\n",
      "\n",
      "СТРУКТУРА ДАТАФРЕЙМА df_d_salary:\n",
      "<class 'pandas.core.frame.DataFrame'>\n",
      "Int64Index: 15223 entries, 0 to 15522\n",
      "Data columns (total 3 columns):\n",
      " #   Column           Non-Null Count  Dtype  \n",
      "---  ------           --------------  -----  \n",
      " 0   family_income    15223 non-null  object \n",
      " 1   personal_income  15223 non-null  float64\n",
      " 2   id_client        15223 non-null  float64\n",
      "dtypes: float64(2), object(1)\n",
      "memory usage: 475.7+ KB\n",
      "None \n",
      "\n",
      "ПРИМЕР СТРОКИ ДАТАФРЕЙМА df_d_salary:\n",
      "            family_income  personal_income    id_client\n",
      "0  от 20000 до 50000 руб.          20000.0  106809321.0\n",
      "1  от 20000 до 50000 руб.          14000.0  106815561.0 \n",
      "\n",
      "\n",
      "СТРУКТУРА ДАТАФРЕЙМА df_d_pens:\n",
      "<class 'pandas.core.frame.DataFrame'>\n",
      "RangeIndex: 2 entries, 0 to 1\n",
      "Data columns (total 2 columns):\n",
      " #   Column   Non-Null Count  Dtype  \n",
      "---  ------   --------------  -----  \n",
      " 0   id       2 non-null      float64\n",
      " 1   comment  2 non-null      object \n",
      "dtypes: float64(1), object(1)\n",
      "memory usage: 160.0+ bytes\n",
      "None \n",
      "\n",
      "ПРИМЕР СТРОКИ ДАТАФРЕЙМА df_d_pens:\n",
      "    id       comment\n",
      "0  1.0     пенсионер\n",
      "1  2.0  не пенсионер \n",
      "\n",
      "\n"
     ]
    }
   ],
   "source": [
    "# Выведем параметры датафреймов\n",
    "for name_df in names_df:\n",
    "    print(f'СТРУКТУРА ДАТАФРЕЙМА {name_df}:')\n",
    "    print(locals()[name_df].info(), '\\n')\n",
    "    print(f'ПРИМЕР СТРОКИ ДАТАФРЕЙМА {name_df}:')\n",
    "    print(locals()[name_df].head(2), '\\n\\n')"
   ]
  },
  {
   "cell_type": "code",
   "execution_count": 4,
   "metadata": {
    "ExecuteTime": {
     "end_time": "2023-12-14T13:53:31.639681Z",
     "start_time": "2023-12-14T13:53:31.619856Z"
    }
   },
   "outputs": [
    {
     "ename": "NameError",
     "evalue": "name 'table_drop_duplicated' is not defined",
     "output_type": "error",
     "traceback": [
      "\u001b[0;31m---------------------------------------------------------------------------\u001b[0m",
      "\u001b[0;31mNameError\u001b[0m                                 Traceback (most recent call last)",
      "Input \u001b[0;32mIn [4]\u001b[0m, in \u001b[0;36m<cell line: 1>\u001b[0;34m()\u001b[0m\n\u001b[0;32m----> 1\u001b[0m \u001b[43mtable_drop_duplicated\u001b[49m\n",
      "\u001b[0;31mNameError\u001b[0m: name 'table_drop_duplicated' is not defined"
     ]
    }
   ],
   "source": [
    "table_drop_duplicated"
   ]
  },
  {
   "cell_type": "code",
   "execution_count": 5,
   "metadata": {
    "ExecuteTime": {
     "end_time": "2023-12-14T13:53:32.083538Z",
     "start_time": "2023-12-14T13:53:32.077471Z"
    },
    "id": "Kw0gsygGW4My"
   },
   "outputs": [],
   "source": [
    "# проведите анализ данных, посмотрите на индивидуальные графики\n",
    "# зависимости целевой функции и отдельной переменной\n",
    "# создайте дополнительные переменные\n",
    "# для работы с категориальными данными можно воспользоваться pd.get_dummies\n",
    "# сделайте предварительные выводы\n",
    "\n",
    "# Ваш код здесь"
   ]
  },
  {
   "cell_type": "code",
   "execution_count": 6,
   "metadata": {
    "ExecuteTime": {
     "end_time": "2023-12-14T13:53:33.176317Z",
     "start_time": "2023-12-14T13:53:33.173609Z"
    },
    "id": "qc4Qyoo1sx6M"
   },
   "outputs": [],
   "source": [
    "# раздедлите на обучающую и тестовую выборки\n",
    "\n",
    "# Ваш код здесь"
   ]
  },
  {
   "cell_type": "code",
   "execution_count": 7,
   "metadata": {
    "ExecuteTime": {
     "end_time": "2023-12-14T13:53:34.067950Z",
     "start_time": "2023-12-14T13:53:34.060191Z"
    },
    "id": "rgudcaaPnBgB"
   },
   "outputs": [],
   "source": [
    "# обучите модель методом ближайших соседей\n",
    "\n",
    "# Ваш код здесь"
   ]
  },
  {
   "cell_type": "code",
   "execution_count": 8,
   "metadata": {
    "ExecuteTime": {
     "end_time": "2023-12-14T13:53:34.627634Z",
     "start_time": "2023-12-14T13:53:34.620583Z"
    },
    "id": "CKDRfal9ncAq"
   },
   "outputs": [],
   "source": [
    "# проверьте качество модели с помощью F-мера\n",
    "\n",
    "# Ваш код здесь"
   ]
  },
  {
   "cell_type": "code",
   "execution_count": 9,
   "metadata": {
    "ExecuteTime": {
     "end_time": "2023-12-14T13:53:35.084235Z",
     "start_time": "2023-12-14T13:53:35.076083Z"
    },
    "id": "Noxi1XTKWvOQ"
   },
   "outputs": [],
   "source": [
    "# проверьте качество модели с помощью матрицы сопряжённостей\n",
    "\n",
    "# Ваш код здесь"
   ]
  },
  {
   "cell_type": "markdown",
   "metadata": {
    "id": "3OebVpq7u5Bs"
   },
   "source": [
    "    # сделайте вывод о работе модели\n",
    "\n",
    "    # Ваш текст здесь"
   ]
  }
 ],
 "metadata": {
  "colab": {
   "collapsed_sections": [],
   "name": "homework.ipynb",
   "provenance": []
  },
  "kernelspec": {
   "display_name": "Python 3 (ipykernel)",
   "language": "python",
   "name": "python3"
  },
  "language_info": {
   "codemirror_mode": {
    "name": "ipython",
    "version": 3
   },
   "file_extension": ".py",
   "mimetype": "text/x-python",
   "name": "python",
   "nbconvert_exporter": "python",
   "pygments_lexer": "ipython3",
   "version": "3.9.13"
  },
  "toc": {
   "base_numbering": 1,
   "nav_menu": {},
   "number_sections": true,
   "sideBar": true,
   "skip_h1_title": false,
   "title_cell": "Table of Contents",
   "title_sidebar": "Contents",
   "toc_cell": false,
   "toc_position": {},
   "toc_section_display": true,
   "toc_window_display": false
  },
  "varInspector": {
   "cols": {
    "lenName": 16,
    "lenType": 16,
    "lenVar": 40
   },
   "kernels_config": {
    "python": {
     "delete_cmd_postfix": "",
     "delete_cmd_prefix": "del ",
     "library": "var_list.py",
     "varRefreshCmd": "print(var_dic_list())"
    },
    "r": {
     "delete_cmd_postfix": ") ",
     "delete_cmd_prefix": "rm(",
     "library": "var_list.r",
     "varRefreshCmd": "cat(var_dic_list()) "
    }
   },
   "types_to_exclude": [
    "module",
    "function",
    "builtin_function_or_method",
    "instance",
    "_Feature"
   ],
   "window_display": false
  }
 },
 "nbformat": 4,
 "nbformat_minor": 1
}
