{
 "cells": [
  {
   "cell_type": "markdown",
   "id": "f1bfd91f",
   "metadata": {
    "toc": true
   },
   "source": [
    "<h1>СОДЕРЖАНИЕ<span class=\"tocSkip\"></span></h1>\n",
    "<div class=\"toc\"><ul class=\"toc-item\"><li><span><a href=\"#1.-Загрузка-используемых-библиотек\" data-toc-modified-id=\"1.-Загрузка-используемых-библиотек-1\">1. Загрузка используемых библиотек</a></span></li><li><span><a href=\"#2.-Формирование-и-наполнение-базы-данных\" data-toc-modified-id=\"2.-Формирование-и-наполнение-базы-данных-2\">2. Формирование и наполнение базы данных</a></span></li><li><span><a href=\"#3.-Формирование-результатов-запросов\" data-toc-modified-id=\"3.-Формирование-результатов-запросов-3\">3. Формирование результатов запросов</a></span><ul class=\"toc-item\"><li><span><a href=\"#3.1.-Выборка-значений-из-базы-данных-(задание-1)\" data-toc-modified-id=\"3.1.-Выборка-значений-из-базы-данных-(задание-1)-3.1\">3.1. Выборка значений из базы данных (задание 1)</a></span></li><li><span><a href=\"#3.2.-Поиск-дубликатов-в-загрязнённом-датасете-(задание-2-и-3)\" data-toc-modified-id=\"3.2.-Поиск-дубликатов-в-загрязнённом-датасете-(задание-2-и-3)-3.2\">3.2. Поиск дубликатов в загрязнённом датасете (задание 2 и 3)</a></span></li><li><span><a href=\"#3.3.-Обновление-названия-колонки-в-таблице-Printer-с-color-на-color_type-и-изменение-типа-поля.\" data-toc-modified-id=\"3.3.-Обновление-названия-колонки-в-таблице-Printer-с-color-на-color_type-и-изменение-типа-поля.-3.3\">3.3. Обновление названия колонки в таблице Printer с color на color_type и изменение типа поля.</a></span></li><li><span><a href=\"#3.4.-Слияние-двух-запросов-из-таблиц-PC-и-Laptop,-выбрав-только-те-значения,-у-которых-цена-больше-500,-а-ram-=-64.\" data-toc-modified-id=\"3.4.-Слияние-двух-запросов-из-таблиц-PC-и-Laptop,-выбрав-только-те-значения,-у-которых-цена-больше-500,-а-ram-=-64.-3.4\">3.4. Слияние двух запросов из таблиц PC и Laptop, выбрав только те значения, у которых цена больше 500, а ram = 64.</a></span></li></ul></li></ul></div>"
   ]
  },
  {
   "cell_type": "markdown",
   "id": "aaf98f36",
   "metadata": {},
   "source": [
    "# 1. Загрузка используемых библиотек"
   ]
  },
  {
   "cell_type": "code",
   "execution_count": 1,
   "id": "7127850d",
   "metadata": {
    "ExecuteTime": {
     "end_time": "2023-12-01T21:51:57.561469Z",
     "start_time": "2023-12-01T21:51:57.360628Z"
    }
   },
   "outputs": [],
   "source": [
    "# Загрузим библиотеки необходмые для создания базы данных sqlite\n",
    "import sqlite3 as db\n",
    "import pandas as pd\n",
    "import random\n",
    "import shutil # библиотека для копирования файлов"
   ]
  },
  {
   "cell_type": "markdown",
   "id": "18c99201",
   "metadata": {},
   "source": [
    "# 2. Формирование и наполнение базы данных "
   ]
  },
  {
   "cell_type": "code",
   "execution_count": 2,
   "id": "1ecc91ae",
   "metadata": {
    "ExecuteTime": {
     "end_time": "2023-12-01T21:51:58.853110Z",
     "start_time": "2023-12-01T21:51:58.828573Z"
    }
   },
   "outputs": [
    {
     "name": "stdout",
     "output_type": "stream",
     "text": [
      "База данных подключена\n",
      "   🔹таблица product создана\n",
      "   🔹таблица pc создана\n",
      "   🔹таблица laptop создана\n",
      "   🔹таблица printer создана\n",
      "Соединение с базой данных закрыто\n"
     ]
    }
   ],
   "source": [
    "# Создадим базу данных, подключение к ней и соответствующие таблицы\n",
    "with db.connect('computer_company.db') as con:\n",
    "    print(\"База данных подключена\")\n",
    "    name_table = ['product', 'pc', 'laptop', 'printer']\n",
    "    \n",
    "    table_1 = \"\"\"CREATE TABLE IF NOT EXISTS product (id_maker_model INTEGER PRIMARY KEY AUTOINCREMENT,\n",
    "                                                     maker TEXT NOT NULL,\n",
    "                                                     model INTEGER NOT NULL,\n",
    "                                                     types TEXT NOT NULL,\n",
    "                                                     CONSTRAINT constraint_name UNIQUE (model))\"\"\"\n",
    "    table_2 = \"\"\"CREATE TABLE IF NOT EXISTS pc (code INTEGER PRIMARY KEY AUTOINCREMENT,\n",
    "                                                model INTEGER NOT NULL,\n",
    "                                                speed INTEGER NOT NULL,\n",
    "                                                ram INTEGER NOT NULL,\n",
    "                                                hd FLOAT NOT NULL,\n",
    "                                                cd TEXT NOT NULL,\n",
    "                                                price FLOAT NOT NULL)\"\"\"\n",
    "    table_3 = \"\"\"CREATE TABLE IF NOT EXISTS laptop (code INTEGER PRIMARY KEY AUTOINCREMENT,\n",
    "                                                    model INTEGER NOT NULL,\n",
    "                                                    speed INTEGER NOT NULL,\n",
    "                                                    ram INTEGER NOT NULL,\n",
    "                                                    hd FLOAT NOT NULL,\n",
    "                                                    screen INTEGER NOT NULL,\n",
    "                                                    price FLOAT NOT NULL)\"\"\"\n",
    "    table_4 = \"\"\"CREATE TABLE IF NOT EXISTS printer (code INTEGER PRIMARY KEY AUTOINCREMENT,\n",
    "                                                     model INTEGER NOT NULL,\n",
    "                                                     color TEXT NOT NULL,\n",
    "                                                     type TEXT NOT NULL,\n",
    "                                                     price FLOAT NOT NULL)\"\"\"\n",
    "    \n",
    "    name_sql = [table_1, table_2, table_3, table_4]\n",
    "    \n",
    "    for name, sql in zip(name_table, name_sql):\n",
    "        con.cursor().execute(f\"\"\"DROP TABLE IF EXISTS {name}\"\"\")\n",
    "        con.cursor().execute(sql)\n",
    "        print(f\"   🔹таблица {name} создана\")\n",
    "\n",
    "print(\"Соединение с базой данных закрыто\")"
   ]
  },
  {
   "cell_type": "code",
   "execution_count": 3,
   "id": "bd277285",
   "metadata": {
    "ExecuteTime": {
     "end_time": "2023-12-01T21:51:59.455313Z",
     "start_time": "2023-12-01T21:51:59.444568Z"
    }
   },
   "outputs": [
    {
     "name": "stdout",
     "output_type": "stream",
     "text": [
      "Количесвто моделей, записями о которых заполним таблицу Product: 355\n",
      "Количесвто моделей, записями о которых заполним таблицу PC: 118\n",
      "Количесвто моделей, записями о которых заполним таблицу Laptop: 118\n",
      "Количесвто моделей, записями о которых заполним таблицу Printer: 119\n"
     ]
    }
   ],
   "source": [
    "# Определеим уникальные номера моделей, записями о которых заполним таблицы базы данных\n",
    "\n",
    "# Определим список уникальных номеров моделей для таблицы Product\n",
    "numbers_model_product = []\n",
    "for elem in range(360):\n",
    "    number = random.randrange(1000, 9999)\n",
    "    if number not in numbers_model_product:\n",
    "        numbers_model_product.append(number)\n",
    "print(f'Количесвто моделей, записями о которых заполним таблицу Product: {len(numbers_model_product)}')\n",
    "\n",
    "# Определим списки уникальных номеров моделей для таблиц: PC, Laptop, Printer\n",
    "numbers_model_pc = numbers_model_product[:len(numbers_model_product)//3]\n",
    "print(f'Количесвто моделей, записями о которых заполним таблицу PC: {len(numbers_model_pc)}')\n",
    "numbers_model_laptop = numbers_model_product[len(numbers_model_product)//3:(len(numbers_model_product)//3)*2]\n",
    "print(f'Количесвто моделей, записями о которых заполним таблицу Laptop: {len(numbers_model_laptop)}')\n",
    "numbers_model_printer = numbers_model_product[(len(numbers_model_product)//3)*2:]\n",
    "print(f'Количесвто моделей, записями о которых заполним таблицу Printer: {len(numbers_model_printer)}')"
   ]
  },
  {
   "cell_type": "code",
   "execution_count": 4,
   "id": "3a7c4df4",
   "metadata": {
    "ExecuteTime": {
     "end_time": "2023-12-01T21:52:00.044945Z",
     "start_time": "2023-12-01T21:52:00.023317Z"
    }
   },
   "outputs": [
    {
     "name": "stdout",
     "output_type": "stream",
     "text": [
      "База данных подключена\n",
      "   🟩таблица Product заполнена\n",
      "   🟩таблица PC заполнена\n",
      "   🟩таблица Laptop заполнена\n",
      "   🟩таблица Printer заполнена\n",
      "Соединение с базой данных закрыто\n"
     ]
    }
   ],
   "source": [
    "# Заполним таблицы базы данных\n",
    "with db.connect('computer_company.db') as con:\n",
    "    print(\"База данных подключена\")\n",
    "    \n",
    "    # Заполним таблицу Product\n",
    "    letter_maker = 'ABCDEFGHIJKLMNOPQRSTUVWXYZ'\n",
    "    for model in list(set(numbers_model_product)): # list(set()) для имметации случайной последовательности записей в таблицу Product\n",
    "        if model in numbers_model_pc: types = 'PC'\n",
    "        elif model in numbers_model_laptop: types = 'Laptop'\n",
    "        else: types = 'Printer'\n",
    "        con.cursor().execute(\"INSERT INTO product (maker, model, types) VALUES (?, ?, ?)\",\n",
    "                           [random.choice(letter_maker), model, types])\n",
    "    print(f\"   🟩таблица Product заполнена\")\n",
    "    \n",
    "    # Заполним таблицу PC\n",
    "    speeds = [500, 1000, 1500, 2000, 2500, 3000, 3500, 4000, 4500]\n",
    "    rams = [16, 32, 64, 128, 256]\n",
    "    hdds = [size for size in range(5, 500, 10)]\n",
    "    cds = ['2x', '4x', '8x', '10x', '12x', '14x', '16x', '18x', '20x']\n",
    "    for model in numbers_model_pc:\n",
    "        con.cursor().execute(\"INSERT INTO pc (model, speed, ram, hd, cd, price) VALUES (?, ?, ?, ?, ?, ?)\",\n",
    "                           [model, random.choice(speeds), random.choice(rams), random.choice(hdds),\n",
    "                           random.choice(cds), round(random.triangular(400.00, 1500.00), 2)])   \n",
    "    print(f\"   🟩таблица PC заполнена\")\n",
    "    \n",
    "    # Заполним таблицу Laptop\n",
    "    speeds = [200, 300, 400, 500, 600, 700, 800, 900, 1000]\n",
    "    rams = [16, 32, 64]\n",
    "    hdds = [size for size in range(5, 250, 10)]\n",
    "    screens = [5, 7, 9, 12, 15, 17]\n",
    "    for model in numbers_model_laptop:\n",
    "        con.cursor().execute(\"INSERT INTO laptop (model, speed, ram, hd, screen, price) VALUES (?, ?, ?, ?, ?, ?)\",\n",
    "                           [model, random.choice(speeds), random.choice(rams), random.choice(hdds),\n",
    "                           random.choice(screens), round(random.triangular(300.00, 1200.00), 2)])   \n",
    "    print(f\"   🟩таблица Laptop заполнена\")\n",
    "    \n",
    "    # Заполним таблицу Printer\n",
    "    colors = ['y', 'n']\n",
    "    types = ['Laser', 'Jet', 'Matrix']\n",
    "    for model in numbers_model_printer:\n",
    "        con.cursor().execute(\"INSERT INTO printer (model, color, type, price) VALUES (?, ?, ?, ?)\",\n",
    "                           [model, random.choice(colors), random.choice(types),\n",
    "                            round(random.triangular(150.00, 600.00), 2)])   \n",
    "    print(f\"   🟩таблица Printer заполнена\")\n",
    "\n",
    "    \n",
    "print(\"Соединение с базой данных закрыто\")   "
   ]
  },
  {
   "cell_type": "code",
   "execution_count": 5,
   "id": "aa344928",
   "metadata": {
    "ExecuteTime": {
     "end_time": "2023-12-01T21:52:00.672831Z",
     "start_time": "2023-12-01T21:52:00.654437Z"
    }
   },
   "outputs": [
    {
     "name": "stdout",
     "output_type": "stream",
     "text": [
      "База данных подключена\n",
      "Таблицы базы данных:\n",
      " Product: (355, 4)\n",
      " PC:      (118, 7)\n",
      " Laptop:  (118, 7)\n",
      " Printer: (119, 5)\n",
      "Соединение с базой данных закрыто\n"
     ]
    }
   ],
   "source": [
    "# Выведем полученные таблицы в базе данных\n",
    "with db.connect('computer_company.db') as con:\n",
    "    print(\"База данных подключена\")\n",
    "    df_product = pd.read_sql_query('SELECT * FROM product', con)\n",
    "    df_pc = pd.read_sql_query('SELECT * FROM pc', con)\n",
    "    df_laptop = pd.read_sql_query('SELECT * FROM laptop', con)\n",
    "    df_printer = pd.read_sql_query('SELECT * FROM printer', con)\n",
    "    print('Таблицы базы данных:')\n",
    "    print(f' Product: {df_product.shape}')\n",
    "    print(f' PC:      {df_pc.shape}')\n",
    "    print(f' Laptop:  {df_laptop.shape}')\n",
    "    print(f' Printer: {df_printer.shape}')\n",
    "print(\"Соединение с базой данных закрыто\")   "
   ]
  },
  {
   "cell_type": "code",
   "execution_count": 6,
   "id": "edbe1aba",
   "metadata": {
    "ExecuteTime": {
     "end_time": "2023-12-01T21:52:01.260422Z",
     "start_time": "2023-12-01T21:52:01.241159Z"
    }
   },
   "outputs": [
    {
     "data": {
      "text/html": [
       "<div>\n",
       "<style scoped>\n",
       "    .dataframe tbody tr th:only-of-type {\n",
       "        vertical-align: middle;\n",
       "    }\n",
       "\n",
       "    .dataframe tbody tr th {\n",
       "        vertical-align: top;\n",
       "    }\n",
       "\n",
       "    .dataframe thead th {\n",
       "        text-align: right;\n",
       "    }\n",
       "</style>\n",
       "<table border=\"1\" class=\"dataframe\">\n",
       "  <thead>\n",
       "    <tr style=\"text-align: right;\">\n",
       "      <th></th>\n",
       "      <th>id_maker_model</th>\n",
       "      <th>maker</th>\n",
       "      <th>model</th>\n",
       "      <th>types</th>\n",
       "    </tr>\n",
       "  </thead>\n",
       "  <tbody>\n",
       "    <tr>\n",
       "      <th>0</th>\n",
       "      <td>1</td>\n",
       "      <td>S</td>\n",
       "      <td>2053</td>\n",
       "      <td>Printer</td>\n",
       "    </tr>\n",
       "    <tr>\n",
       "      <th>1</th>\n",
       "      <td>2</td>\n",
       "      <td>I</td>\n",
       "      <td>6177</td>\n",
       "      <td>PC</td>\n",
       "    </tr>\n",
       "    <tr>\n",
       "      <th>2</th>\n",
       "      <td>3</td>\n",
       "      <td>Q</td>\n",
       "      <td>6183</td>\n",
       "      <td>Laptop</td>\n",
       "    </tr>\n",
       "  </tbody>\n",
       "</table>\n",
       "</div>"
      ],
      "text/plain": [
       "   id_maker_model maker  model    types\n",
       "0               1     S   2053  Printer\n",
       "1               2     I   6177       PC\n",
       "2               3     Q   6183   Laptop"
      ]
     },
     "execution_count": 6,
     "metadata": {},
     "output_type": "execute_result"
    }
   ],
   "source": [
    "df_product.head(3)"
   ]
  },
  {
   "cell_type": "code",
   "execution_count": 7,
   "id": "450086ef",
   "metadata": {
    "ExecuteTime": {
     "end_time": "2023-12-01T21:52:01.944011Z",
     "start_time": "2023-12-01T21:52:01.923436Z"
    }
   },
   "outputs": [
    {
     "data": {
      "text/html": [
       "<div>\n",
       "<style scoped>\n",
       "    .dataframe tbody tr th:only-of-type {\n",
       "        vertical-align: middle;\n",
       "    }\n",
       "\n",
       "    .dataframe tbody tr th {\n",
       "        vertical-align: top;\n",
       "    }\n",
       "\n",
       "    .dataframe thead th {\n",
       "        text-align: right;\n",
       "    }\n",
       "</style>\n",
       "<table border=\"1\" class=\"dataframe\">\n",
       "  <thead>\n",
       "    <tr style=\"text-align: right;\">\n",
       "      <th></th>\n",
       "      <th>code</th>\n",
       "      <th>model</th>\n",
       "      <th>speed</th>\n",
       "      <th>ram</th>\n",
       "      <th>hd</th>\n",
       "      <th>cd</th>\n",
       "      <th>price</th>\n",
       "    </tr>\n",
       "  </thead>\n",
       "  <tbody>\n",
       "    <tr>\n",
       "      <th>0</th>\n",
       "      <td>1</td>\n",
       "      <td>8423</td>\n",
       "      <td>3500</td>\n",
       "      <td>16</td>\n",
       "      <td>105.0</td>\n",
       "      <td>12x</td>\n",
       "      <td>1192.59</td>\n",
       "    </tr>\n",
       "    <tr>\n",
       "      <th>1</th>\n",
       "      <td>2</td>\n",
       "      <td>6757</td>\n",
       "      <td>2000</td>\n",
       "      <td>64</td>\n",
       "      <td>405.0</td>\n",
       "      <td>18x</td>\n",
       "      <td>820.26</td>\n",
       "    </tr>\n",
       "    <tr>\n",
       "      <th>2</th>\n",
       "      <td>3</td>\n",
       "      <td>2014</td>\n",
       "      <td>3500</td>\n",
       "      <td>16</td>\n",
       "      <td>115.0</td>\n",
       "      <td>12x</td>\n",
       "      <td>761.33</td>\n",
       "    </tr>\n",
       "  </tbody>\n",
       "</table>\n",
       "</div>"
      ],
      "text/plain": [
       "   code  model  speed  ram     hd   cd    price\n",
       "0     1   8423   3500   16  105.0  12x  1192.59\n",
       "1     2   6757   2000   64  405.0  18x   820.26\n",
       "2     3   2014   3500   16  115.0  12x   761.33"
      ]
     },
     "execution_count": 7,
     "metadata": {},
     "output_type": "execute_result"
    }
   ],
   "source": [
    "df_pc.head(3)"
   ]
  },
  {
   "cell_type": "code",
   "execution_count": 8,
   "id": "363a359d",
   "metadata": {
    "ExecuteTime": {
     "end_time": "2023-12-01T21:52:02.725920Z",
     "start_time": "2023-12-01T21:52:02.709099Z"
    }
   },
   "outputs": [
    {
     "data": {
      "text/html": [
       "<div>\n",
       "<style scoped>\n",
       "    .dataframe tbody tr th:only-of-type {\n",
       "        vertical-align: middle;\n",
       "    }\n",
       "\n",
       "    .dataframe tbody tr th {\n",
       "        vertical-align: top;\n",
       "    }\n",
       "\n",
       "    .dataframe thead th {\n",
       "        text-align: right;\n",
       "    }\n",
       "</style>\n",
       "<table border=\"1\" class=\"dataframe\">\n",
       "  <thead>\n",
       "    <tr style=\"text-align: right;\">\n",
       "      <th></th>\n",
       "      <th>code</th>\n",
       "      <th>model</th>\n",
       "      <th>speed</th>\n",
       "      <th>ram</th>\n",
       "      <th>hd</th>\n",
       "      <th>screen</th>\n",
       "      <th>price</th>\n",
       "    </tr>\n",
       "  </thead>\n",
       "  <tbody>\n",
       "    <tr>\n",
       "      <th>0</th>\n",
       "      <td>1</td>\n",
       "      <td>5748</td>\n",
       "      <td>200</td>\n",
       "      <td>32</td>\n",
       "      <td>185.0</td>\n",
       "      <td>5</td>\n",
       "      <td>755.23</td>\n",
       "    </tr>\n",
       "    <tr>\n",
       "      <th>1</th>\n",
       "      <td>2</td>\n",
       "      <td>3920</td>\n",
       "      <td>200</td>\n",
       "      <td>64</td>\n",
       "      <td>5.0</td>\n",
       "      <td>9</td>\n",
       "      <td>818.00</td>\n",
       "    </tr>\n",
       "    <tr>\n",
       "      <th>2</th>\n",
       "      <td>3</td>\n",
       "      <td>2435</td>\n",
       "      <td>200</td>\n",
       "      <td>64</td>\n",
       "      <td>95.0</td>\n",
       "      <td>7</td>\n",
       "      <td>704.31</td>\n",
       "    </tr>\n",
       "  </tbody>\n",
       "</table>\n",
       "</div>"
      ],
      "text/plain": [
       "   code  model  speed  ram     hd  screen   price\n",
       "0     1   5748    200   32  185.0       5  755.23\n",
       "1     2   3920    200   64    5.0       9  818.00\n",
       "2     3   2435    200   64   95.0       7  704.31"
      ]
     },
     "execution_count": 8,
     "metadata": {},
     "output_type": "execute_result"
    }
   ],
   "source": [
    "df_laptop.head(3)"
   ]
  },
  {
   "cell_type": "code",
   "execution_count": 9,
   "id": "7d70177a",
   "metadata": {
    "ExecuteTime": {
     "end_time": "2023-12-01T21:52:03.498515Z",
     "start_time": "2023-12-01T21:52:03.483404Z"
    }
   },
   "outputs": [
    {
     "data": {
      "text/html": [
       "<div>\n",
       "<style scoped>\n",
       "    .dataframe tbody tr th:only-of-type {\n",
       "        vertical-align: middle;\n",
       "    }\n",
       "\n",
       "    .dataframe tbody tr th {\n",
       "        vertical-align: top;\n",
       "    }\n",
       "\n",
       "    .dataframe thead th {\n",
       "        text-align: right;\n",
       "    }\n",
       "</style>\n",
       "<table border=\"1\" class=\"dataframe\">\n",
       "  <thead>\n",
       "    <tr style=\"text-align: right;\">\n",
       "      <th></th>\n",
       "      <th>code</th>\n",
       "      <th>model</th>\n",
       "      <th>color</th>\n",
       "      <th>type</th>\n",
       "      <th>price</th>\n",
       "    </tr>\n",
       "  </thead>\n",
       "  <tbody>\n",
       "    <tr>\n",
       "      <th>0</th>\n",
       "      <td>1</td>\n",
       "      <td>2385</td>\n",
       "      <td>y</td>\n",
       "      <td>Laser</td>\n",
       "      <td>452.31</td>\n",
       "    </tr>\n",
       "    <tr>\n",
       "      <th>1</th>\n",
       "      <td>2</td>\n",
       "      <td>9152</td>\n",
       "      <td>n</td>\n",
       "      <td>Laser</td>\n",
       "      <td>431.19</td>\n",
       "    </tr>\n",
       "    <tr>\n",
       "      <th>2</th>\n",
       "      <td>3</td>\n",
       "      <td>3655</td>\n",
       "      <td>n</td>\n",
       "      <td>Laser</td>\n",
       "      <td>369.76</td>\n",
       "    </tr>\n",
       "  </tbody>\n",
       "</table>\n",
       "</div>"
      ],
      "text/plain": [
       "   code  model color   type   price\n",
       "0     1   2385     y  Laser  452.31\n",
       "1     2   9152     n  Laser  431.19\n",
       "2     3   3655     n  Laser  369.76"
      ]
     },
     "execution_count": 9,
     "metadata": {},
     "output_type": "execute_result"
    }
   ],
   "source": [
    "df_printer.head(3)"
   ]
  },
  {
   "cell_type": "markdown",
   "id": "18b93f85",
   "metadata": {},
   "source": [
    "# 3. Формирование результатов запросов"
   ]
  },
  {
   "cell_type": "markdown",
   "id": "5cdeeeef",
   "metadata": {},
   "source": [
    "## 3.1. Выборка значений из базы данных (задание 1)"
   ]
  },
  {
   "cell_type": "code",
   "execution_count": 10,
   "id": "4737f48c",
   "metadata": {
    "ExecuteTime": {
     "end_time": "2023-12-01T21:52:05.579519Z",
     "start_time": "2023-12-01T21:52:05.562628Z"
    }
   },
   "outputs": [
    {
     "data": {
      "text/html": [
       "<div>\n",
       "<style scoped>\n",
       "    .dataframe tbody tr th:only-of-type {\n",
       "        vertical-align: middle;\n",
       "    }\n",
       "\n",
       "    .dataframe tbody tr th {\n",
       "        vertical-align: top;\n",
       "    }\n",
       "\n",
       "    .dataframe thead th {\n",
       "        text-align: right;\n",
       "    }\n",
       "</style>\n",
       "<table border=\"1\" class=\"dataframe\">\n",
       "  <thead>\n",
       "    <tr style=\"text-align: right;\">\n",
       "      <th></th>\n",
       "      <th>МОДЕЛЬ</th>\n",
       "      <th>ЦЕНА</th>\n",
       "    </tr>\n",
       "  </thead>\n",
       "  <tbody>\n",
       "    <tr>\n",
       "      <th>0</th>\n",
       "      <td>7596</td>\n",
       "      <td>592.23</td>\n",
       "    </tr>\n",
       "  </tbody>\n",
       "</table>\n",
       "</div>"
      ],
      "text/plain": [
       "   МОДЕЛЬ    ЦЕНА\n",
       "0    7596  592.23"
      ]
     },
     "execution_count": 10,
     "metadata": {},
     "output_type": "execute_result"
    }
   ],
   "source": [
    "# Модель принтера, имеющая самую высокую цену. Вывести: model, price.\n",
    "with db.connect('computer_company.db') as con:\n",
    "    df = pd.read_sql_query(\"\"\"SELECT model AS МОДЕЛЬ, MAX(price) AS ЦЕНА\n",
    "                              FROM printer\"\"\", con)\n",
    "df"
   ]
  },
  {
   "cell_type": "code",
   "execution_count": 11,
   "id": "2443ccc3",
   "metadata": {
    "ExecuteTime": {
     "end_time": "2023-12-01T21:52:06.463694Z",
     "start_time": "2023-12-01T21:52:06.445062Z"
    }
   },
   "outputs": [
    {
     "data": {
      "text/html": [
       "<div>\n",
       "<style scoped>\n",
       "    .dataframe tbody tr th:only-of-type {\n",
       "        vertical-align: middle;\n",
       "    }\n",
       "\n",
       "    .dataframe tbody tr th {\n",
       "        vertical-align: top;\n",
       "    }\n",
       "\n",
       "    .dataframe thead th {\n",
       "        text-align: right;\n",
       "    }\n",
       "</style>\n",
       "<table border=\"1\" class=\"dataframe\">\n",
       "  <thead>\n",
       "    <tr style=\"text-align: right;\">\n",
       "      <th></th>\n",
       "      <th>СРЕДНЯЯ СКОРОСТЬ ПК</th>\n",
       "    </tr>\n",
       "  </thead>\n",
       "  <tbody>\n",
       "    <tr>\n",
       "      <th>0</th>\n",
       "      <td>2682.0</td>\n",
       "    </tr>\n",
       "  </tbody>\n",
       "</table>\n",
       "</div>"
      ],
      "text/plain": [
       "   СРЕДНЯЯ СКОРОСТЬ ПК\n",
       "0               2682.0"
      ]
     },
     "execution_count": 11,
     "metadata": {},
     "output_type": "execute_result"
    }
   ],
   "source": [
    "# Средняя скорость ПК\n",
    "with db.connect('computer_company.db') as con:\n",
    "    df = pd.read_sql_query(\"\"\"SELECT ROUND(AVG(speed)) AS 'СРЕДНЯЯ СКОРОСТЬ ПК'\n",
    "                              FROM pc\"\"\", con)\n",
    "df"
   ]
  },
  {
   "cell_type": "code",
   "execution_count": 12,
   "id": "89ea46e1",
   "metadata": {
    "ExecuteTime": {
     "end_time": "2023-12-01T21:52:07.343333Z",
     "start_time": "2023-12-01T21:52:07.325328Z"
    }
   },
   "outputs": [
    {
     "data": {
      "text/html": [
       "<div>\n",
       "<style scoped>\n",
       "    .dataframe tbody tr th:only-of-type {\n",
       "        vertical-align: middle;\n",
       "    }\n",
       "\n",
       "    .dataframe tbody tr th {\n",
       "        vertical-align: top;\n",
       "    }\n",
       "\n",
       "    .dataframe thead th {\n",
       "        text-align: right;\n",
       "    }\n",
       "</style>\n",
       "<table border=\"1\" class=\"dataframe\">\n",
       "  <thead>\n",
       "    <tr style=\"text-align: right;\">\n",
       "      <th></th>\n",
       "      <th>ПРОИЗВОДИТЕЛЬ</th>\n",
       "    </tr>\n",
       "  </thead>\n",
       "  <tbody>\n",
       "  </tbody>\n",
       "</table>\n",
       "</div>"
      ],
      "text/plain": [
       "Empty DataFrame\n",
       "Columns: [ПРОИЗВОДИТЕЛЬ]\n",
       "Index: []"
      ]
     },
     "execution_count": 12,
     "metadata": {},
     "output_type": "execute_result"
    }
   ],
   "source": [
    "# Производители, продающие ПК, но не ноутбуки.\n",
    "with db.connect('computer_company.db') as con:\n",
    "    df = pd.read_sql_query(\"\"\"SELECT DISTINCT(maker) AS 'ПРОИЗВОДИТЕЛЬ'\n",
    "                              FROM product\n",
    "                              WHERE types = 'Printer' AND\n",
    "                              maker NOT IN (SELECT DISTINCT(maker) AS 'МОДЕЛЬ'\n",
    "                              FROM product\n",
    "                              WHERE types = 'Laptop')\"\"\", con)\n",
    "df"
   ]
  },
  {
   "cell_type": "markdown",
   "id": "b25b7dd9",
   "metadata": {},
   "source": [
    "## 3.2. Поиск дубликатов в загрязнённом датасете (задание 2 и 3)"
   ]
  },
  {
   "cell_type": "code",
   "execution_count": 14,
   "id": "9aa01fd8",
   "metadata": {
    "ExecuteTime": {
     "end_time": "2023-12-01T21:52:12.093614Z",
     "start_time": "2023-12-01T21:52:12.080849Z"
    }
   },
   "outputs": [],
   "source": [
    "# Загрязним датасет (вставим новые значения с уникальным кодом,\n",
    "# но всеми остальными дублирующими полями).\n",
    "\n",
    "# Сделаем копию чистой базы данных\n",
    "shutil.copyfile(\"computer_company.db\", \"copy.db\");"
   ]
  },
  {
   "cell_type": "code",
   "execution_count": 15,
   "id": "1f4dd5c9",
   "metadata": {
    "ExecuteTime": {
     "end_time": "2023-12-01T21:52:12.807600Z",
     "start_time": "2023-12-01T21:52:12.788137Z"
    }
   },
   "outputs": [
    {
     "name": "stdout",
     "output_type": "stream",
     "text": [
      "Количество записей в исходной таблице Printer: 119\n",
      "Количество записей в загрязнённой таблице Printer: 427\n"
     ]
    }
   ],
   "source": [
    "# Вставим дубликаты строк таблицу Printer\n",
    "with db.connect('copy.db') as con:\n",
    "    rows = con.cursor().execute(\"\"\"SELECT * FROM printer\"\"\").fetchall()\n",
    "    print(f'Количество записей в исходной таблице Printer: {len(rows)}')\n",
    "    \n",
    "    for row in rows:\n",
    "        for _ in range(random.randrange(1, 5)):\n",
    "            con.cursor().execute(\"INSERT INTO printer (model, color, type, price) VALUES (?, ?, ?, ?)\",\n",
    "                           [row[1], row[2], row[3], row[4]]) \n",
    "    \n",
    "    rows = con.cursor().execute(\"\"\"SELECT * FROM printer\"\"\").fetchall()\n",
    "    print(f'Количество записей в загрязнённой таблице Printer: {len(rows)}')"
   ]
  },
  {
   "cell_type": "code",
   "execution_count": 16,
   "id": "cb952d4b",
   "metadata": {
    "ExecuteTime": {
     "end_time": "2023-12-01T21:52:13.806944Z",
     "start_time": "2023-12-01T21:52:13.788507Z"
    }
   },
   "outputs": [
    {
     "name": "stdout",
     "output_type": "stream",
     "text": [
      "Количество записей дубликатов в таблице Printer: 308\n"
     ]
    },
    {
     "data": {
      "text/html": [
       "<div>\n",
       "<style scoped>\n",
       "    .dataframe tbody tr th:only-of-type {\n",
       "        vertical-align: middle;\n",
       "    }\n",
       "\n",
       "    .dataframe tbody tr th {\n",
       "        vertical-align: top;\n",
       "    }\n",
       "\n",
       "    .dataframe thead th {\n",
       "        text-align: right;\n",
       "    }\n",
       "</style>\n",
       "<table border=\"1\" class=\"dataframe\">\n",
       "  <thead>\n",
       "    <tr style=\"text-align: right;\">\n",
       "      <th></th>\n",
       "      <th>КОД</th>\n",
       "      <th>row_nomber</th>\n",
       "    </tr>\n",
       "  </thead>\n",
       "  <tbody>\n",
       "    <tr>\n",
       "      <th>0</th>\n",
       "      <td>173</td>\n",
       "      <td>2</td>\n",
       "    </tr>\n",
       "    <tr>\n",
       "      <th>1</th>\n",
       "      <td>174</td>\n",
       "      <td>3</td>\n",
       "    </tr>\n",
       "    <tr>\n",
       "      <th>2</th>\n",
       "      <td>175</td>\n",
       "      <td>4</td>\n",
       "    </tr>\n",
       "    <tr>\n",
       "      <th>3</th>\n",
       "      <td>176</td>\n",
       "      <td>5</td>\n",
       "    </tr>\n",
       "    <tr>\n",
       "      <th>4</th>\n",
       "      <td>152</td>\n",
       "      <td>2</td>\n",
       "    </tr>\n",
       "    <tr>\n",
       "      <th>...</th>\n",
       "      <td>...</td>\n",
       "      <td>...</td>\n",
       "    </tr>\n",
       "    <tr>\n",
       "      <th>303</th>\n",
       "      <td>404</td>\n",
       "      <td>2</td>\n",
       "    </tr>\n",
       "    <tr>\n",
       "      <th>304</th>\n",
       "      <td>405</td>\n",
       "      <td>3</td>\n",
       "    </tr>\n",
       "    <tr>\n",
       "      <th>305</th>\n",
       "      <td>406</td>\n",
       "      <td>4</td>\n",
       "    </tr>\n",
       "    <tr>\n",
       "      <th>306</th>\n",
       "      <td>245</td>\n",
       "      <td>2</td>\n",
       "    </tr>\n",
       "    <tr>\n",
       "      <th>307</th>\n",
       "      <td>246</td>\n",
       "      <td>3</td>\n",
       "    </tr>\n",
       "  </tbody>\n",
       "</table>\n",
       "<p>308 rows × 2 columns</p>\n",
       "</div>"
      ],
      "text/plain": [
       "     КОД  row_nomber\n",
       "0    173           2\n",
       "1    174           3\n",
       "2    175           4\n",
       "3    176           5\n",
       "4    152           2\n",
       "..   ...         ...\n",
       "303  404           2\n",
       "304  405           3\n",
       "305  406           4\n",
       "306  245           2\n",
       "307  246           3\n",
       "\n",
       "[308 rows x 2 columns]"
      ]
     },
     "execution_count": 16,
     "metadata": {},
     "output_type": "execute_result"
    }
   ],
   "source": [
    "# Определим все строки с дублирующими записями\n",
    "with db.connect('copy.db') as con:\n",
    "    df = pd.read_sql_query(\"\"\"select *\n",
    "                              from (select code AS КОД,\n",
    "                                           row_number() over(partition by model,\n",
    "                                                                          color,\n",
    "                                                                          type,\n",
    "                                                                          price                   \n",
    "                                                             order by code asc) as row_nomber\n",
    "                                    from printer) a\n",
    "                                    where a.row_nomber > 1\"\"\", con)\n",
    "    print(f'Количество записей дубликатов в таблице Printer: {len(df)}')\n",
    "df"
   ]
  },
  {
   "cell_type": "markdown",
   "id": "3935e5f6",
   "metadata": {},
   "source": [
    "## 3.3. Обновление названия колонки в таблице Printer с color на color_type и изменение типа поля."
   ]
  },
  {
   "cell_type": "code",
   "execution_count": 17,
   "id": "e15bafbf",
   "metadata": {
    "ExecuteTime": {
     "end_time": "2023-12-01T21:52:16.593137Z",
     "start_time": "2023-12-01T21:52:16.569701Z"
    }
   },
   "outputs": [
    {
     "name": "stdout",
     "output_type": "stream",
     "text": [
      "Количество записей в обновлённой таблице Printer: 427\n"
     ]
    },
    {
     "data": {
      "text/html": [
       "<div>\n",
       "<style scoped>\n",
       "    .dataframe tbody tr th:only-of-type {\n",
       "        vertical-align: middle;\n",
       "    }\n",
       "\n",
       "    .dataframe tbody tr th {\n",
       "        vertical-align: top;\n",
       "    }\n",
       "\n",
       "    .dataframe thead th {\n",
       "        text-align: right;\n",
       "    }\n",
       "</style>\n",
       "<table border=\"1\" class=\"dataframe\">\n",
       "  <thead>\n",
       "    <tr style=\"text-align: right;\">\n",
       "      <th></th>\n",
       "      <th>code</th>\n",
       "      <th>model</th>\n",
       "      <th>color_type</th>\n",
       "      <th>type</th>\n",
       "      <th>price</th>\n",
       "    </tr>\n",
       "  </thead>\n",
       "  <tbody>\n",
       "    <tr>\n",
       "      <th>0</th>\n",
       "      <td>1</td>\n",
       "      <td>2385</td>\n",
       "      <td>y</td>\n",
       "      <td>Laser</td>\n",
       "      <td>452.31</td>\n",
       "    </tr>\n",
       "    <tr>\n",
       "      <th>1</th>\n",
       "      <td>2</td>\n",
       "      <td>9152</td>\n",
       "      <td>n</td>\n",
       "      <td>Laser</td>\n",
       "      <td>431.19</td>\n",
       "    </tr>\n",
       "    <tr>\n",
       "      <th>2</th>\n",
       "      <td>3</td>\n",
       "      <td>3655</td>\n",
       "      <td>n</td>\n",
       "      <td>Laser</td>\n",
       "      <td>369.76</td>\n",
       "    </tr>\n",
       "  </tbody>\n",
       "</table>\n",
       "</div>"
      ],
      "text/plain": [
       "   code  model color_type   type   price\n",
       "0     1   2385          y  Laser  452.31\n",
       "1     2   9152          n  Laser  431.19\n",
       "2     3   3655          n  Laser  369.76"
      ]
     },
     "execution_count": 17,
     "metadata": {},
     "output_type": "execute_result"
    }
   ],
   "source": [
    "# Так в SQLite отсутствуют инструкции для изменения названия и типа данных столбца\n",
    "# выполним изменение этих параметров через создание новой таблицы\n",
    "with db.connect('copy.db') as con:\n",
    "    # Переименуем исходную таблицу\n",
    "    con.cursor().execute(\"\"\"ALTER TABLE printer RENAME TO _printer\"\"\")\n",
    "    # Создадим новую таблицу Printer с обновлёнными: названием поля и типом данных\n",
    "    con.cursor().execute(\"\"\"CREATE TABLE IF NOT EXISTS printer\n",
    "                                                    (code INTEGER PRIMARY KEY AUTOINCREMENT,\n",
    "                                                     model INTEGER NOT NULL,\n",
    "                                                     color_type CHAR(1) NOT NULL,\n",
    "                                                     type TEXT NOT NULL,\n",
    "                                                     price FLOAT NOT NULL)\"\"\")\n",
    "    con.cursor().execute(\"\"\"INSERT INTO printer (code, model, color_type, type, price)\n",
    "                            SELECT code, model, color, type, price\n",
    "                            FROM _printer\n",
    "                            \"\"\")\n",
    "    \n",
    "    df = pd.read_sql_query(\"\"\"SELECT * FROM printer\"\"\", con)\n",
    "    print(f'Количество записей в обновлённой таблице Printer: {len(df)}')\n",
    "df.head(3)"
   ]
  },
  {
   "cell_type": "markdown",
   "id": "2107fd7d",
   "metadata": {},
   "source": [
    "## 3.4. Слияние двух запросов из таблиц PC и Laptop, выбрав только те значения, у которых цена больше 500, а ram = 64."
   ]
  },
  {
   "cell_type": "code",
   "execution_count": 19,
   "id": "c5550f22",
   "metadata": {
    "ExecuteTime": {
     "end_time": "2023-12-01T21:52:49.154089Z",
     "start_time": "2023-12-01T21:52:49.130535Z"
    }
   },
   "outputs": [
    {
     "data": {
      "text/html": [
       "<div>\n",
       "<style scoped>\n",
       "    .dataframe tbody tr th:only-of-type {\n",
       "        vertical-align: middle;\n",
       "    }\n",
       "\n",
       "    .dataframe tbody tr th {\n",
       "        vertical-align: top;\n",
       "    }\n",
       "\n",
       "    .dataframe thead th {\n",
       "        text-align: right;\n",
       "    }\n",
       "</style>\n",
       "<table border=\"1\" class=\"dataframe\">\n",
       "  <thead>\n",
       "    <tr style=\"text-align: right;\">\n",
       "      <th></th>\n",
       "      <th>code</th>\n",
       "      <th>model</th>\n",
       "      <th>speed</th>\n",
       "      <th>ram</th>\n",
       "      <th>hd</th>\n",
       "      <th>cd_pc</th>\n",
       "      <th>screen_laptop</th>\n",
       "      <th>price</th>\n",
       "    </tr>\n",
       "  </thead>\n",
       "  <tbody>\n",
       "    <tr>\n",
       "      <th>0</th>\n",
       "      <td>2</td>\n",
       "      <td>3920</td>\n",
       "      <td>200</td>\n",
       "      <td>64</td>\n",
       "      <td>5.0</td>\n",
       "      <td>-</td>\n",
       "      <td>9</td>\n",
       "      <td>818.00</td>\n",
       "    </tr>\n",
       "    <tr>\n",
       "      <th>1</th>\n",
       "      <td>2</td>\n",
       "      <td>6757</td>\n",
       "      <td>2000</td>\n",
       "      <td>64</td>\n",
       "      <td>405.0</td>\n",
       "      <td>18x</td>\n",
       "      <td>-</td>\n",
       "      <td>820.26</td>\n",
       "    </tr>\n",
       "    <tr>\n",
       "      <th>2</th>\n",
       "      <td>3</td>\n",
       "      <td>2435</td>\n",
       "      <td>200</td>\n",
       "      <td>64</td>\n",
       "      <td>95.0</td>\n",
       "      <td>-</td>\n",
       "      <td>7</td>\n",
       "      <td>704.31</td>\n",
       "    </tr>\n",
       "    <tr>\n",
       "      <th>3</th>\n",
       "      <td>4</td>\n",
       "      <td>9799</td>\n",
       "      <td>700</td>\n",
       "      <td>64</td>\n",
       "      <td>105.0</td>\n",
       "      <td>-</td>\n",
       "      <td>9</td>\n",
       "      <td>860.86</td>\n",
       "    </tr>\n",
       "    <tr>\n",
       "      <th>4</th>\n",
       "      <td>8</td>\n",
       "      <td>7512</td>\n",
       "      <td>300</td>\n",
       "      <td>64</td>\n",
       "      <td>215.0</td>\n",
       "      <td>-</td>\n",
       "      <td>7</td>\n",
       "      <td>705.72</td>\n",
       "    </tr>\n",
       "    <tr>\n",
       "      <th>5</th>\n",
       "      <td>11</td>\n",
       "      <td>7048</td>\n",
       "      <td>4000</td>\n",
       "      <td>64</td>\n",
       "      <td>55.0</td>\n",
       "      <td>18x</td>\n",
       "      <td>-</td>\n",
       "      <td>1098.00</td>\n",
       "    </tr>\n",
       "    <tr>\n",
       "      <th>6</th>\n",
       "      <td>13</td>\n",
       "      <td>9197</td>\n",
       "      <td>500</td>\n",
       "      <td>64</td>\n",
       "      <td>285.0</td>\n",
       "      <td>4x</td>\n",
       "      <td>-</td>\n",
       "      <td>1099.81</td>\n",
       "    </tr>\n",
       "    <tr>\n",
       "      <th>7</th>\n",
       "      <td>17</td>\n",
       "      <td>1670</td>\n",
       "      <td>1000</td>\n",
       "      <td>64</td>\n",
       "      <td>155.0</td>\n",
       "      <td>-</td>\n",
       "      <td>15</td>\n",
       "      <td>650.07</td>\n",
       "    </tr>\n",
       "    <tr>\n",
       "      <th>8</th>\n",
       "      <td>18</td>\n",
       "      <td>1061</td>\n",
       "      <td>1000</td>\n",
       "      <td>64</td>\n",
       "      <td>25.0</td>\n",
       "      <td>-</td>\n",
       "      <td>5</td>\n",
       "      <td>1045.39</td>\n",
       "    </tr>\n",
       "    <tr>\n",
       "      <th>9</th>\n",
       "      <td>19</td>\n",
       "      <td>2866</td>\n",
       "      <td>4000</td>\n",
       "      <td>64</td>\n",
       "      <td>295.0</td>\n",
       "      <td>4x</td>\n",
       "      <td>-</td>\n",
       "      <td>656.25</td>\n",
       "    </tr>\n",
       "    <tr>\n",
       "      <th>10</th>\n",
       "      <td>27</td>\n",
       "      <td>8519</td>\n",
       "      <td>600</td>\n",
       "      <td>64</td>\n",
       "      <td>135.0</td>\n",
       "      <td>-</td>\n",
       "      <td>5</td>\n",
       "      <td>1151.04</td>\n",
       "    </tr>\n",
       "    <tr>\n",
       "      <th>11</th>\n",
       "      <td>28</td>\n",
       "      <td>5510</td>\n",
       "      <td>700</td>\n",
       "      <td>64</td>\n",
       "      <td>115.0</td>\n",
       "      <td>-</td>\n",
       "      <td>15</td>\n",
       "      <td>819.82</td>\n",
       "    </tr>\n",
       "  </tbody>\n",
       "</table>\n",
       "</div>"
      ],
      "text/plain": [
       "    code  model  speed  ram     hd cd_pc screen_laptop    price\n",
       "0      2   3920    200   64    5.0     -             9   818.00\n",
       "1      2   6757   2000   64  405.0   18x             -   820.26\n",
       "2      3   2435    200   64   95.0     -             7   704.31\n",
       "3      4   9799    700   64  105.0     -             9   860.86\n",
       "4      8   7512    300   64  215.0     -             7   705.72\n",
       "5     11   7048   4000   64   55.0   18x             -  1098.00\n",
       "6     13   9197    500   64  285.0    4x             -  1099.81\n",
       "7     17   1670   1000   64  155.0     -            15   650.07\n",
       "8     18   1061   1000   64   25.0     -             5  1045.39\n",
       "9     19   2866   4000   64  295.0    4x             -   656.25\n",
       "10    27   8519    600   64  135.0     -             5  1151.04\n",
       "11    28   5510    700   64  115.0     -            15   819.82"
      ]
     },
     "execution_count": 19,
     "metadata": {},
     "output_type": "execute_result"
    }
   ],
   "source": [
    "with db.connect('computer_company.db') as con:\n",
    "    df = pd.read_sql_query(\"\"\"SELECT *\n",
    "                              FROM\n",
    "                              (SELECT code, model, speed, ram, hd,\n",
    "                                      cd AS cd_pc, '-' AS screen_laptop,\n",
    "                                      price\n",
    "                               FROM pc\n",
    "                               UNION\n",
    "                               SELECT code, model, speed, ram, hd,\n",
    "                                      '-' AS cd_pc, screen AS screen_laptop,\n",
    "                                      price\n",
    "                               FROM laptop)\n",
    "                               WHERE price > 500 and ram = 64\n",
    "                              \"\"\", con)\n",
    "df.head(12)"
   ]
  },
  {
   "cell_type": "code",
   "execution_count": null,
   "id": "68909af7",
   "metadata": {},
   "outputs": [],
   "source": []
  }
 ],
 "metadata": {
  "kernelspec": {
   "display_name": "Python 3 (ipykernel)",
   "language": "python",
   "name": "python3"
  },
  "language_info": {
   "codemirror_mode": {
    "name": "ipython",
    "version": 3
   },
   "file_extension": ".py",
   "mimetype": "text/x-python",
   "name": "python",
   "nbconvert_exporter": "python",
   "pygments_lexer": "ipython3",
   "version": "3.9.13"
  },
  "toc": {
   "base_numbering": 1,
   "nav_menu": {},
   "number_sections": false,
   "sideBar": true,
   "skip_h1_title": false,
   "title_cell": "СОДЕРЖАНИЕ",
   "title_sidebar": "Contents",
   "toc_cell": true,
   "toc_position": {},
   "toc_section_display": true,
   "toc_window_display": true
  },
  "varInspector": {
   "cols": {
    "lenName": 16,
    "lenType": 16,
    "lenVar": 40
   },
   "kernels_config": {
    "python": {
     "delete_cmd_postfix": "",
     "delete_cmd_prefix": "del ",
     "library": "var_list.py",
     "varRefreshCmd": "print(var_dic_list())"
    },
    "r": {
     "delete_cmd_postfix": ") ",
     "delete_cmd_prefix": "rm(",
     "library": "var_list.r",
     "varRefreshCmd": "cat(var_dic_list()) "
    }
   },
   "types_to_exclude": [
    "module",
    "function",
    "builtin_function_or_method",
    "instance",
    "_Feature"
   ],
   "window_display": false
  }
 },
 "nbformat": 4,
 "nbformat_minor": 5
}
